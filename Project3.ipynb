{
 "cells": [
  {
   "cell_type": "markdown",
   "id": "f0da5f59",
   "metadata": {},
   "source": [
    "# **Vehicle Insurance Company : Customer Lifetime Value**"
   ]
  },
  {
   "cell_type": "markdown",
   "id": "156f3e61",
   "metadata": {},
   "source": [
    "### **Business Understanding**\n",
    "\n",
    "Vehicle insurance (also known as car insurance, motor insurance, or auto insurance) is insurance for cars, trucks, motorcycles, and other road vehicles. Its primary use is to provide financial protection against physical damage or bodily injury resulting from traffic collisions and against liability that could also arise from incidents in a vehicle. [World Health Organization (WHO)](https://www.who.int/news-room/fact-sheets/detail/road-traffic-injuriesVehicle) said every year the lives of approximately 1.3 million people are cut short as a result of a road traffic crash. Between 20 and 50 million more people suffer non-fatal injuries, with many incurring a disability as a result of their injury. Insurance may additionally offer financial protection against theft of the vehicle, and against damage to the vehicle sustained from events other than traffic collisions, such as keying, weather or natural disasters and damage sustained by colliding with stationary objects. The specific terms of vehicle insurance vary with legal regulations in each region.\n",
    "\n",
    "Vehicle insurance premiums are determined before actual costs of damages are known and can vary based on the type of insurance. Because providers don’t know the cost of damages, **they’re forced to base premium prices on the severity of each claim in terms of overall cost and how frequent people file claims. customers also work to regulate fraud, filing false claims, in order to keep premiums down.**"
   ]
  },
  {
   "cell_type": "markdown",
   "id": "21e96243",
   "metadata": {},
   "source": [
    "### **Problem Statement**\n",
    "\n",
    "In taking care of customers, this insurance is often not handled properly by stakeholders especially financial and marketing to able to get customers. This refers to the value of a consumer towards a brand as long as they are customers. company need to know that this customer lifetime value is one of the metrics that can be tracked to measure how valuable a consumer in terms of the time spent they are offer, which is calculated from the first purchase.\n",
    "\n",
    "This customer lifetime value will help company to retain existing customers. Because getting new customers is much more difficult and requires more time and cost than retaining existing ones. **Understanding customer lifetime value will also help company business to develop strategies to increase sales while on the other hand can maintain stable profit margins.** "
   ]
  },
  {
   "cell_type": "markdown",
   "id": "3885ad65",
   "metadata": {},
   "source": [
    "### **Purpose Analysis**\n",
    "\n",
    "Based on these problems, insurance certainly needs to have a tool called Cusomer Lifetime Value that can predict which customers can predict the total revenue that the company can get from these customers **to determine which customers have a good offers to company decide by highest customer lifetime value from all the company's customers**. The differences in the various features found in a Vehicle Class, Coverage, Renew Offer Type, Marital Status, Employment Status, Monthly Premium Auto, Total Claim Amount, Income. Could increased the accuracy of the offers price prediction, which can be profitable for the company. This method is also quite effective for setting up a marketing strategy, where you can estimate the amount of commensurate costs to get new customers, without exceeding the customer lifetime value of existing customers. CLV = Average transaction value x (Number of transactions in one year x retention time)\n",
    "\n",
    "Knowing customer lifetime value also makes it easier for you as a business owner to create the best program based on the buyer's ability of each consumer and also their level of loyalty. This also allows you to find out which consumers can be said to be loyal and deserve rewards that can later increase customer satisfaction. Trying to satisfy consumers with high customer lifetime value is definitely more promising than if you randomly give rewards in the hope of helping to significantly increase purchases."
   ]
  },
  {
   "cell_type": "markdown",
   "id": "225da61b",
   "metadata": {},
   "source": [
    "### **Analytic Approach**\n",
    "\n",
    "Data scientist needs to do is analyze the data to be able to find patterns of existing features, which differentiate one customer from another.\n",
    "\n",
    "Data scientist would build a regression model that will help the company to provide a tool and predict the highest customer lifetime value that will be useful for the company for determine offers to customers."
   ]
  },
  {
   "cell_type": "markdown",
   "id": "abee0b01",
   "metadata": {},
   "source": [
    "### **Metric Evaluation**\n",
    "\n",
    "The evaluation metrics that will be used are RMSE, MAE, and MAPE, where RMSE is the mean value of the square root of the error, MAE is the average absolute value of the error, while MAPE is the average percentage error generated by the regression model. The smaller the resulting RMSE, MAE, and MAPE values, it means that the model is more accurate in predicting customers lifetime value according to the limitations of the features used.\n",
    "\n",
    "In addition, we can also use the value of R-squared or adj. R-squared if the model that will be selected as the final model is a linear model. The R-squared value is used to determine how well the model can represent the overall variance of the data. The closer to 1, the more fit the model is to the observation data. However, this metric is not valid for non-linear models."
   ]
  },
  {
   "cell_type": "markdown",
   "id": "4984c102",
   "metadata": {},
   "source": [
    "# **Data Understanding**\n",
    "\n",
    "- Dataset was insurance company customer lifetime value in **2021**.\n",
    "- Each row of data represents information related to customers data.\n",
    "\n",
    "**Attributes Information**\n",
    "\n",
    "| **Attribute** | **Data Type** | **Description** |\n",
    "| --- | --- | --- |\n",
    "| Vehicle Class  | Object | Type of vehicle |\n",
    "| Coverage   | Object | Type of cover insurance |\n",
    "| Renew Offer Type | Object | Type offer renewal|\n",
    "| EmploymentStatus | Object | Type employ |\n",
    "| Marital Status | Object | Type marital |\n",
    "| Education | Object | Type degree |\n",
    "| Number of Policies | Float | Type Number |\n",
    "| Monthly Premium Auto | Float | Listing monthly premium |\n",
    "| Total Claim Amount | Float | Listing claim amount|\n",
    "| Income | Float | Listing income |\n",
    "| Customer Lifetime Value | Float | Listing CLV|\n",
    "\n",
    "<br>"
   ]
  },
  {
   "cell_type": "code",
   "execution_count": 1,
   "id": "f622267b",
   "metadata": {},
   "outputs": [],
   "source": [
    "# Import libraries needed for dataset exploration\n",
    "import pandas as pd \n",
    "import numpy as np\n",
    "import matplotlib.pyplot as plt\n",
    "import seaborn as sns\n",
    "import statsmodels.api as sm\n",
    "from statsmodels.stats.outliers_influence import variance_inflation_factor\n",
    "\n",
    "\n",
    "import warnings\n",
    "warnings.filterwarnings('ignore')"
   ]
  },
  {
   "cell_type": "code",
   "execution_count": 2,
   "id": "a2bba80d",
   "metadata": {},
   "outputs": [
    {
     "data": {
      "text/html": [
       "<div>\n",
       "<style scoped>\n",
       "    .dataframe tbody tr th:only-of-type {\n",
       "        vertical-align: middle;\n",
       "    }\n",
       "\n",
       "    .dataframe tbody tr th {\n",
       "        vertical-align: top;\n",
       "    }\n",
       "\n",
       "    .dataframe thead th {\n",
       "        text-align: right;\n",
       "    }\n",
       "</style>\n",
       "<table border=\"1\" class=\"dataframe\">\n",
       "  <thead>\n",
       "    <tr style=\"text-align: right;\">\n",
       "      <th></th>\n",
       "      <th>Vehicle Class</th>\n",
       "      <th>Coverage</th>\n",
       "      <th>Renew Offer Type</th>\n",
       "      <th>EmploymentStatus</th>\n",
       "      <th>Marital Status</th>\n",
       "      <th>Education</th>\n",
       "      <th>Number of Policies</th>\n",
       "      <th>Monthly Premium Auto</th>\n",
       "      <th>Total Claim Amount</th>\n",
       "      <th>Income</th>\n",
       "      <th>Customer Lifetime Value</th>\n",
       "    </tr>\n",
       "  </thead>\n",
       "  <tbody>\n",
       "    <tr>\n",
       "      <th>0</th>\n",
       "      <td>Four-Door Car</td>\n",
       "      <td>Extended</td>\n",
       "      <td>Offer1</td>\n",
       "      <td>Retired</td>\n",
       "      <td>Divorced</td>\n",
       "      <td>High School or Below</td>\n",
       "      <td>2.0</td>\n",
       "      <td>90.0</td>\n",
       "      <td>571.479602</td>\n",
       "      <td>11828.0</td>\n",
       "      <td>10083.486880</td>\n",
       "    </tr>\n",
       "    <tr>\n",
       "      <th>1</th>\n",
       "      <td>Four-Door Car</td>\n",
       "      <td>Basic</td>\n",
       "      <td>Offer1</td>\n",
       "      <td>Employed</td>\n",
       "      <td>Married</td>\n",
       "      <td>College</td>\n",
       "      <td>6.0</td>\n",
       "      <td>62.0</td>\n",
       "      <td>114.514440</td>\n",
       "      <td>44762.0</td>\n",
       "      <td>4943.386117</td>\n",
       "    </tr>\n",
       "    <tr>\n",
       "      <th>2</th>\n",
       "      <td>Two-Door Car</td>\n",
       "      <td>Basic</td>\n",
       "      <td>Offer1</td>\n",
       "      <td>Retired</td>\n",
       "      <td>Married</td>\n",
       "      <td>Master</td>\n",
       "      <td>2.0</td>\n",
       "      <td>62.0</td>\n",
       "      <td>257.248789</td>\n",
       "      <td>21514.0</td>\n",
       "      <td>11981.984810</td>\n",
       "    </tr>\n",
       "    <tr>\n",
       "      <th>3</th>\n",
       "      <td>Four-Door Car</td>\n",
       "      <td>Premium</td>\n",
       "      <td>Offer3</td>\n",
       "      <td>Disabled</td>\n",
       "      <td>Married</td>\n",
       "      <td>High School or Below</td>\n",
       "      <td>1.0</td>\n",
       "      <td>116.0</td>\n",
       "      <td>556.800000</td>\n",
       "      <td>17913.0</td>\n",
       "      <td>4550.856045</td>\n",
       "    </tr>\n",
       "    <tr>\n",
       "      <th>4</th>\n",
       "      <td>Two-Door Car</td>\n",
       "      <td>Basic</td>\n",
       "      <td>Offer3</td>\n",
       "      <td>Medical Leave</td>\n",
       "      <td>Married</td>\n",
       "      <td>High School or Below</td>\n",
       "      <td>1.0</td>\n",
       "      <td>62.0</td>\n",
       "      <td>355.820799</td>\n",
       "      <td>19030.0</td>\n",
       "      <td>2372.155492</td>\n",
       "    </tr>\n",
       "    <tr>\n",
       "      <th>...</th>\n",
       "      <td>...</td>\n",
       "      <td>...</td>\n",
       "      <td>...</td>\n",
       "      <td>...</td>\n",
       "      <td>...</td>\n",
       "      <td>...</td>\n",
       "      <td>...</td>\n",
       "      <td>...</td>\n",
       "      <td>...</td>\n",
       "      <td>...</td>\n",
       "      <td>...</td>\n",
       "    </tr>\n",
       "    <tr>\n",
       "      <th>5664</th>\n",
       "      <td>Four-Door Car</td>\n",
       "      <td>Basic</td>\n",
       "      <td>Offer4</td>\n",
       "      <td>Unemployed</td>\n",
       "      <td>Single</td>\n",
       "      <td>High School or Below</td>\n",
       "      <td>1.0</td>\n",
       "      <td>74.0</td>\n",
       "      <td>532.800000</td>\n",
       "      <td>0.0</td>\n",
       "      <td>2442.216651</td>\n",
       "    </tr>\n",
       "    <tr>\n",
       "      <th>5665</th>\n",
       "      <td>Four-Door Car</td>\n",
       "      <td>Premium</td>\n",
       "      <td>Offer1</td>\n",
       "      <td>Employed</td>\n",
       "      <td>Divorced</td>\n",
       "      <td>Bachelor</td>\n",
       "      <td>2.0</td>\n",
       "      <td>109.0</td>\n",
       "      <td>523.200000</td>\n",
       "      <td>27778.0</td>\n",
       "      <td>12904.943360</td>\n",
       "    </tr>\n",
       "    <tr>\n",
       "      <th>5666</th>\n",
       "      <td>Four-Door Car</td>\n",
       "      <td>Basic</td>\n",
       "      <td>Offer1</td>\n",
       "      <td>Employed</td>\n",
       "      <td>Single</td>\n",
       "      <td>Bachelor</td>\n",
       "      <td>1.0</td>\n",
       "      <td>62.0</td>\n",
       "      <td>44.780402</td>\n",
       "      <td>84658.0</td>\n",
       "      <td>2447.053134</td>\n",
       "    </tr>\n",
       "    <tr>\n",
       "      <th>5667</th>\n",
       "      <td>Luxury SUV</td>\n",
       "      <td>Extended</td>\n",
       "      <td>Offer2</td>\n",
       "      <td>Employed</td>\n",
       "      <td>Divorced</td>\n",
       "      <td>Master</td>\n",
       "      <td>7.0</td>\n",
       "      <td>239.0</td>\n",
       "      <td>1294.700423</td>\n",
       "      <td>22705.0</td>\n",
       "      <td>19160.989940</td>\n",
       "    </tr>\n",
       "    <tr>\n",
       "      <th>5668</th>\n",
       "      <td>Luxury SUV</td>\n",
       "      <td>Basic</td>\n",
       "      <td>Offer2</td>\n",
       "      <td>Employed</td>\n",
       "      <td>Divorced</td>\n",
       "      <td>College</td>\n",
       "      <td>1.0</td>\n",
       "      <td>199.0</td>\n",
       "      <td>161.615740</td>\n",
       "      <td>60184.0</td>\n",
       "      <td>7664.219255</td>\n",
       "    </tr>\n",
       "  </tbody>\n",
       "</table>\n",
       "<p>5669 rows × 11 columns</p>\n",
       "</div>"
      ],
      "text/plain": [
       "      Vehicle Class  Coverage Renew Offer Type EmploymentStatus  \\\n",
       "0     Four-Door Car  Extended           Offer1          Retired   \n",
       "1     Four-Door Car     Basic           Offer1         Employed   \n",
       "2      Two-Door Car     Basic           Offer1          Retired   \n",
       "3     Four-Door Car   Premium           Offer3         Disabled   \n",
       "4      Two-Door Car     Basic           Offer3    Medical Leave   \n",
       "...             ...       ...              ...              ...   \n",
       "5664  Four-Door Car     Basic           Offer4       Unemployed   \n",
       "5665  Four-Door Car   Premium           Offer1         Employed   \n",
       "5666  Four-Door Car     Basic           Offer1         Employed   \n",
       "5667     Luxury SUV  Extended           Offer2         Employed   \n",
       "5668     Luxury SUV     Basic           Offer2         Employed   \n",
       "\n",
       "     Marital Status             Education  Number of Policies  \\\n",
       "0          Divorced  High School or Below                 2.0   \n",
       "1           Married               College                 6.0   \n",
       "2           Married                Master                 2.0   \n",
       "3           Married  High School or Below                 1.0   \n",
       "4           Married  High School or Below                 1.0   \n",
       "...             ...                   ...                 ...   \n",
       "5664         Single  High School or Below                 1.0   \n",
       "5665       Divorced              Bachelor                 2.0   \n",
       "5666         Single              Bachelor                 1.0   \n",
       "5667       Divorced                Master                 7.0   \n",
       "5668       Divorced               College                 1.0   \n",
       "\n",
       "      Monthly Premium Auto  Total Claim Amount   Income  \\\n",
       "0                     90.0          571.479602  11828.0   \n",
       "1                     62.0          114.514440  44762.0   \n",
       "2                     62.0          257.248789  21514.0   \n",
       "3                    116.0          556.800000  17913.0   \n",
       "4                     62.0          355.820799  19030.0   \n",
       "...                    ...                 ...      ...   \n",
       "5664                  74.0          532.800000      0.0   \n",
       "5665                 109.0          523.200000  27778.0   \n",
       "5666                  62.0           44.780402  84658.0   \n",
       "5667                 239.0         1294.700423  22705.0   \n",
       "5668                 199.0          161.615740  60184.0   \n",
       "\n",
       "      Customer Lifetime Value  \n",
       "0                10083.486880  \n",
       "1                 4943.386117  \n",
       "2                11981.984810  \n",
       "3                 4550.856045  \n",
       "4                 2372.155492  \n",
       "...                       ...  \n",
       "5664              2442.216651  \n",
       "5665             12904.943360  \n",
       "5666              2447.053134  \n",
       "5667             19160.989940  \n",
       "5668              7664.219255  \n",
       "\n",
       "[5669 rows x 11 columns]"
      ]
     },
     "execution_count": 2,
     "metadata": {},
     "output_type": "execute_result"
    }
   ],
   "source": [
    "#load dataset\n",
    "df = pd.read_csv('data_customer_lifetime_value.csv')\n",
    "df"
   ]
  },
  {
   "cell_type": "markdown",
   "id": "8d611d8d",
   "metadata": {},
   "source": [
    "#### **Exploratory Data Analysis**\n",
    "Distribution of CLV"
   ]
  },
  {
   "cell_type": "code",
   "execution_count": 3,
   "id": "627c1807",
   "metadata": {},
   "outputs": [
    {
     "data": {
      "image/png": "[encoded data removed]",
      "text/plain": [
       "<Figure size 360x360 with 1 Axes>"
      ]
     },
     "metadata": {
      "needs_background": "light"
     },
     "output_type": "display_data"
    }
   ],
   "source": [
    "# Plot distribusi fitur 'price'\n",
    "plt.figure(figsize=(5, 5))\n",
    "sns.distplot(df['Customer Lifetime Value'])\n",
    "plt.title('CLV Distribution Plot', size=15, weight='bold');"
   ]
  },
  {
   "cell_type": "markdown",
   "id": "ce82ec0c",
   "metadata": {},
   "source": [
    "Based on the distribution plot above, it can be seen that there is a **right-skewed distribution**. In other words, there is a positive skewness in the CLV feature."
   ]
  },
  {
   "cell_type": "markdown",
   "id": "2b4c3d04",
   "metadata": {},
   "source": [
    "**Types of vehicle related to CLV**"
   ]
  },
  {
   "cell_type": "code",
   "execution_count": 4,
   "id": "0083b948",
   "metadata": {},
   "outputs": [
    {
     "data": {
      "text/html": [
       "<div>\n",
       "<style scoped>\n",
       "    .dataframe tbody tr th:only-of-type {\n",
       "        vertical-align: middle;\n",
       "    }\n",
       "\n",
       "    .dataframe tbody tr th {\n",
       "        vertical-align: top;\n",
       "    }\n",
       "\n",
       "    .dataframe thead th {\n",
       "        text-align: right;\n",
       "    }\n",
       "</style>\n",
       "<table border=\"1\" class=\"dataframe\">\n",
       "  <thead>\n",
       "    <tr style=\"text-align: right;\">\n",
       "      <th>Coverage</th>\n",
       "      <th>Basic</th>\n",
       "      <th>Extended</th>\n",
       "      <th>Premium</th>\n",
       "    </tr>\n",
       "    <tr>\n",
       "      <th>Vehicle Class</th>\n",
       "      <th></th>\n",
       "      <th></th>\n",
       "      <th></th>\n",
       "    </tr>\n",
       "  </thead>\n",
       "  <tbody>\n",
       "    <tr>\n",
       "      <th>Four-Door Car</th>\n",
       "      <td>5067.546013</td>\n",
       "      <td>6273.542658</td>\n",
       "      <td>8343.821811</td>\n",
       "    </tr>\n",
       "    <tr>\n",
       "      <th>Luxury Car</th>\n",
       "      <td>14081.857550</td>\n",
       "      <td>17929.580920</td>\n",
       "      <td>11250.098570</td>\n",
       "    </tr>\n",
       "    <tr>\n",
       "      <th>Luxury SUV</th>\n",
       "      <td>13144.491010</td>\n",
       "      <td>17582.700890</td>\n",
       "      <td>10945.326100</td>\n",
       "    </tr>\n",
       "    <tr>\n",
       "      <th>SUV</th>\n",
       "      <td>8356.181097</td>\n",
       "      <td>9575.357152</td>\n",
       "      <td>13210.796010</td>\n",
       "    </tr>\n",
       "    <tr>\n",
       "      <th>Sports Car</th>\n",
       "      <td>8500.121950</td>\n",
       "      <td>9756.044954</td>\n",
       "      <td>7256.576235</td>\n",
       "    </tr>\n",
       "    <tr>\n",
       "      <th>Two-Door Car</th>\n",
       "      <td>4898.605666</td>\n",
       "      <td>6457.840465</td>\n",
       "      <td>8055.147361</td>\n",
       "    </tr>\n",
       "  </tbody>\n",
       "</table>\n",
       "</div>"
      ],
      "text/plain": [
       "Coverage              Basic      Extended       Premium\n",
       "Vehicle Class                                          \n",
       "Four-Door Car   5067.546013   6273.542658   8343.821811\n",
       "Luxury Car     14081.857550  17929.580920  11250.098570\n",
       "Luxury SUV     13144.491010  17582.700890  10945.326100\n",
       "SUV             8356.181097   9575.357152  13210.796010\n",
       "Sports Car      8500.121950   9756.044954   7256.576235\n",
       "Two-Door Car    4898.605666   6457.840465   8055.147361"
      ]
     },
     "metadata": {},
     "output_type": "display_data"
    },
    {
     "data": {
      "image/png": "[encoded data removed]",
      "text/plain": [
       "<Figure size 864x504 with 1 Axes>"
      ]
     },
     "metadata": {
      "needs_background": "light"
     },
     "output_type": "display_data"
    }
   ],
   "source": [
    "# Plot median CSV for each vehicle\n",
    "from IPython.display import display\n",
    "\n",
    "neighbour_pivot = df.pivot_table(index='Vehicle Class', columns='Coverage', values='Customer Lifetime Value', aggfunc='median')\n",
    "display(neighbour_pivot)\n",
    "\n",
    "pivot_plot = neighbour_pivot.plot.bar(stacked=True, figsize=(12, 7))\n",
    "pivot_plot.set_xlabel('Vehicle Class')\n",
    "pivot_plot.set_ylabel('Median value')\n",
    "pivot_plot.set_title('Median value of CLV');"
   ]
  },
  {
   "cell_type": "markdown",
   "id": "56700858",
   "metadata": {},
   "source": [
    "luxury cars have the highest median price for each consumer value, where the coverage type is Extended, the median price reaches 3 times the premium consumer value, which is around 30000. The highest average coverage value is Luxury Cars, but it turns out that the median value of consumer insurance on Four-Door Cars is even far below Luxury Cars which have the lowest average coverage value."
   ]
  },
  {
   "cell_type": "code",
   "execution_count": 5,
   "id": "0cc24a40",
   "metadata": {},
   "outputs": [
    {
     "data": {
      "image/png": "[encoded data removed]",
      "text/plain": [
       "<Figure size 465x360 with 1 Axes>"
      ]
     },
     "metadata": {
      "needs_background": "light"
     },
     "output_type": "display_data"
    }
   ],
   "source": [
    "# Distribution vihacle types based on coverage\n",
    "sns.catplot(x='Coverage', kind='count', hue='Vehicle Class', data=df);\n",
    "plt.title('Coverage per Vehicle Class');"
   ]
  },
  {
   "cell_type": "markdown",
   "id": "2325b45e",
   "metadata": {},
   "source": [
    "The majority of vehicle types are Four-Door Cars and basic coverage types, while the majority of Luxury car types mostly use basic coverage. This can be an indication that the preference for taking premium offerings is rarely taken, even though the preference for luxury cars can be increased to premium so that services can match the type of vehicle."
   ]
  },
  {
   "cell_type": "markdown",
   "id": "eccf1d5e",
   "metadata": {},
   "source": [
    "### Data Preproccessing\n",
    "We could do cleaning on the data which later the cleaned data will be used for the next analysis process. Some of the things that need to be done are:\n",
    "- Drop features that have no relevance to the problem at hand.\n",
    "- Perform treatment on missing values if any. It could be done by dropping the feature if it is'nt needed or it could also computed with the most reasonable value based on the case.\n",
    "\n",
    "For data preprocessing and feature engineering, would use a duplicated dataframe from the previously used dataframe."
   ]
  },
  {
   "cell_type": "code",
   "execution_count": 6,
   "id": "dcf57358",
   "metadata": {},
   "outputs": [],
   "source": [
    "# Duplicate dataframes\n",
    "df_clean = df.copy()"
   ]
  },
  {
   "cell_type": "code",
   "execution_count": 7,
   "id": "23d0d679",
   "metadata": {},
   "outputs": [
    {
     "data": {
      "text/html": [
       "<div>\n",
       "<style scoped>\n",
       "    .dataframe tbody tr th:only-of-type {\n",
       "        vertical-align: middle;\n",
       "    }\n",
       "\n",
       "    .dataframe tbody tr th {\n",
       "        vertical-align: top;\n",
       "    }\n",
       "\n",
       "    .dataframe thead th {\n",
       "        text-align: right;\n",
       "    }\n",
       "</style>\n",
       "<table border=\"1\" class=\"dataframe\">\n",
       "  <thead>\n",
       "    <tr style=\"text-align: right;\">\n",
       "      <th></th>\n",
       "      <th>Columns</th>\n",
       "      <th>Data Types</th>\n",
       "      <th>Total Missing Value</th>\n",
       "      <th>% Missing Value</th>\n",
       "      <th>Total Unique</th>\n",
       "      <th>Unique Sample</th>\n",
       "    </tr>\n",
       "  </thead>\n",
       "  <tbody>\n",
       "    <tr>\n",
       "      <th>0</th>\n",
       "      <td>Vehicle Class</td>\n",
       "      <td>object</td>\n",
       "      <td>0</td>\n",
       "      <td>0.0</td>\n",
       "      <td>6</td>\n",
       "      <td>[Luxury SUV, Luxury Car]</td>\n",
       "    </tr>\n",
       "    <tr>\n",
       "      <th>1</th>\n",
       "      <td>Coverage</td>\n",
       "      <td>object</td>\n",
       "      <td>0</td>\n",
       "      <td>0.0</td>\n",
       "      <td>3</td>\n",
       "      <td>[Premium, Basic]</td>\n",
       "    </tr>\n",
       "    <tr>\n",
       "      <th>2</th>\n",
       "      <td>Renew Offer Type</td>\n",
       "      <td>object</td>\n",
       "      <td>0</td>\n",
       "      <td>0.0</td>\n",
       "      <td>4</td>\n",
       "      <td>[Offer3, Offer2]</td>\n",
       "    </tr>\n",
       "    <tr>\n",
       "      <th>3</th>\n",
       "      <td>EmploymentStatus</td>\n",
       "      <td>object</td>\n",
       "      <td>0</td>\n",
       "      <td>0.0</td>\n",
       "      <td>5</td>\n",
       "      <td>[Medical Leave, Disabled]</td>\n",
       "    </tr>\n",
       "    <tr>\n",
       "      <th>4</th>\n",
       "      <td>Marital Status</td>\n",
       "      <td>object</td>\n",
       "      <td>0</td>\n",
       "      <td>0.0</td>\n",
       "      <td>3</td>\n",
       "      <td>[Single, Divorced]</td>\n",
       "    </tr>\n",
       "    <tr>\n",
       "      <th>5</th>\n",
       "      <td>Education</td>\n",
       "      <td>object</td>\n",
       "      <td>0</td>\n",
       "      <td>0.0</td>\n",
       "      <td>5</td>\n",
       "      <td>[High School or Below, Master]</td>\n",
       "    </tr>\n",
       "    <tr>\n",
       "      <th>6</th>\n",
       "      <td>Number of Policies</td>\n",
       "      <td>float64</td>\n",
       "      <td>0</td>\n",
       "      <td>0.0</td>\n",
       "      <td>9</td>\n",
       "      <td>[4.0, 3.0]</td>\n",
       "    </tr>\n",
       "    <tr>\n",
       "      <th>7</th>\n",
       "      <td>Monthly Premium Auto</td>\n",
       "      <td>float64</td>\n",
       "      <td>0</td>\n",
       "      <td>0.0</td>\n",
       "      <td>191</td>\n",
       "      <td>[244.0, 83.0]</td>\n",
       "    </tr>\n",
       "    <tr>\n",
       "      <th>8</th>\n",
       "      <td>Total Claim Amount</td>\n",
       "      <td>float64</td>\n",
       "      <td>0</td>\n",
       "      <td>0.0</td>\n",
       "      <td>3274</td>\n",
       "      <td>[266.165535, 580.473259]</td>\n",
       "    </tr>\n",
       "    <tr>\n",
       "      <th>9</th>\n",
       "      <td>Income</td>\n",
       "      <td>float64</td>\n",
       "      <td>0</td>\n",
       "      <td>0.0</td>\n",
       "      <td>3625</td>\n",
       "      <td>[90353.0, 33738.0]</td>\n",
       "    </tr>\n",
       "    <tr>\n",
       "      <th>10</th>\n",
       "      <td>Customer Lifetime Value</td>\n",
       "      <td>float64</td>\n",
       "      <td>0</td>\n",
       "      <td>0.0</td>\n",
       "      <td>5049</td>\n",
       "      <td>[18745.39592, 8991.98452]</td>\n",
       "    </tr>\n",
       "  </tbody>\n",
       "</table>\n",
       "</div>"
      ],
      "text/plain": [
       "                    Columns Data Types  Total Missing Value  % Missing Value  \\\n",
       "0             Vehicle Class     object                    0              0.0   \n",
       "1                  Coverage     object                    0              0.0   \n",
       "2          Renew Offer Type     object                    0              0.0   \n",
       "3          EmploymentStatus     object                    0              0.0   \n",
       "4            Marital Status     object                    0              0.0   \n",
       "5                 Education     object                    0              0.0   \n",
       "6        Number of Policies    float64                    0              0.0   \n",
       "7      Monthly Premium Auto    float64                    0              0.0   \n",
       "8        Total Claim Amount    float64                    0              0.0   \n",
       "9                    Income    float64                    0              0.0   \n",
       "10  Customer Lifetime Value    float64                    0              0.0   \n",
       "\n",
       "    Total Unique                   Unique Sample  \n",
       "0              6        [Luxury SUV, Luxury Car]  \n",
       "1              3                [Premium, Basic]  \n",
       "2              4                [Offer3, Offer2]  \n",
       "3              5       [Medical Leave, Disabled]  \n",
       "4              3              [Single, Divorced]  \n",
       "5              5  [High School or Below, Master]  \n",
       "6              9                      [4.0, 3.0]  \n",
       "7            191                   [244.0, 83.0]  \n",
       "8           3274        [266.165535, 580.473259]  \n",
       "9           3625              [90353.0, 33738.0]  \n",
       "10          5049       [18745.39592, 8991.98452]  "
      ]
     },
     "execution_count": 7,
     "metadata": {},
     "output_type": "execute_result"
    }
   ],
   "source": [
    "# Detail info in dataframes\n",
    "Desc = []\n",
    "for i in df_clean :\n",
    "  Desc.append([\n",
    "              i,\n",
    "              df_clean[i].dtypes,\n",
    "              df_clean[i].isna().sum(),\n",
    "              round(df_clean[i].isna().sum()/len(df_clean)*100, 2),\n",
    "              df_clean[i].nunique(),\n",
    "              df_clean[i].drop_duplicates().sample(2).values])\n",
    "\n",
    "pd.DataFrame(Desc, columns = ['Columns', 'Data Types', 'Total Missing Value', '% Missing Value', 'Total Unique', 'Unique Sample'])"
   ]
  },
  {
   "cell_type": "markdown",
   "id": "3d90f78d",
   "metadata": {},
   "source": [
    "In the data above, there is no missing value in the data, so there is no need for further observation"
   ]
  },
  {
   "cell_type": "code",
   "execution_count": 8,
   "id": "97737e06",
   "metadata": {},
   "outputs": [
    {
     "data": {
      "text/plain": [
       "618"
      ]
     },
     "execution_count": 8,
     "metadata": {},
     "output_type": "execute_result"
    }
   ],
   "source": [
    "# Check duplicated\n",
    "df_clean.duplicated().sum()"
   ]
  },
  {
   "cell_type": "code",
   "execution_count": 9,
   "id": "4880b03d",
   "metadata": {},
   "outputs": [],
   "source": [
    "#Drop data duplicates\n",
    "drop_duplicates = df_clean.drop_duplicates()"
   ]
  },
  {
   "cell_type": "markdown",
   "id": "2b9939bd",
   "metadata": {},
   "source": [
    "In this data, 618 duplicate data were found that needed to be dropped because it could affect further data processing"
   ]
  },
  {
   "cell_type": "markdown",
   "id": "df23c384",
   "metadata": {},
   "source": [
    "### Drop Columns\n",
    "Of course there needs to be consideration before dropping a column or feature. As a consideration, at this early stage we can use domain knowledge to decide which features are deemed irrelevant.\n",
    "- If reviewed based on domain knowledge, features 'Education', and 'Number of Policies' have no relevance and importance for predictive analysis.\n",
    "- 'Education' has no relatable to target CLV because there is no standard education has to be increased value on CLV calculation\n",
    "- 'Number of Policies' i it's just a typical number has different police numbers in each different rules"
   ]
  },
  {
   "cell_type": "code",
   "execution_count": 10,
   "id": "22d64603",
   "metadata": {},
   "outputs": [],
   "source": [
    "# Drop some unnecessary columns\n",
    "df_clean.drop(['Education','Number of Policies'], axis=1, inplace=True)"
   ]
  },
  {
   "cell_type": "code",
   "execution_count": 11,
   "id": "37978fd0",
   "metadata": {},
   "outputs": [
    {
     "name": "stdout",
     "output_type": "stream",
     "text": [
      "<class 'pandas.core.frame.DataFrame'>\n",
      "RangeIndex: 5669 entries, 0 to 5668\n",
      "Data columns (total 9 columns):\n",
      " #   Column                   Non-Null Count  Dtype  \n",
      "---  ------                   --------------  -----  \n",
      " 0   Vehicle Class            5669 non-null   object \n",
      " 1   Coverage                 5669 non-null   object \n",
      " 2   Renew Offer Type         5669 non-null   object \n",
      " 3   EmploymentStatus         5669 non-null   object \n",
      " 4   Marital Status           5669 non-null   object \n",
      " 5   Monthly Premium Auto     5669 non-null   float64\n",
      " 6   Total Claim Amount       5669 non-null   float64\n",
      " 7   Income                   5669 non-null   float64\n",
      " 8   Customer Lifetime Value  5669 non-null   float64\n",
      "dtypes: float64(4), object(5)\n",
      "memory usage: 398.7+ KB\n"
     ]
    }
   ],
   "source": [
    "# Check new dataset\n",
    "df_clean.info()"
   ]
  },
  {
   "cell_type": "code",
   "execution_count": 12,
   "id": "1ff504b7",
   "metadata": {},
   "outputs": [
    {
     "data": {
      "text/html": [
       "<div>\n",
       "<style scoped>\n",
       "    .dataframe tbody tr th:only-of-type {\n",
       "        vertical-align: middle;\n",
       "    }\n",
       "\n",
       "    .dataframe tbody tr th {\n",
       "        vertical-align: top;\n",
       "    }\n",
       "\n",
       "    .dataframe thead th {\n",
       "        text-align: right;\n",
       "    }\n",
       "</style>\n",
       "<table border=\"1\" class=\"dataframe\">\n",
       "  <thead>\n",
       "    <tr style=\"text-align: right;\">\n",
       "      <th></th>\n",
       "      <th>Monthly Premium Auto</th>\n",
       "      <th>Total Claim Amount</th>\n",
       "      <th>Income</th>\n",
       "      <th>Customer Lifetime Value</th>\n",
       "    </tr>\n",
       "  </thead>\n",
       "  <tbody>\n",
       "    <tr>\n",
       "      <th>count</th>\n",
       "      <td>5669.000000</td>\n",
       "      <td>5669.000000</td>\n",
       "      <td>5669.000000</td>\n",
       "      <td>5669.000000</td>\n",
       "    </tr>\n",
       "    <tr>\n",
       "      <th>mean</th>\n",
       "      <td>93.026989</td>\n",
       "      <td>431.407103</td>\n",
       "      <td>37868.188569</td>\n",
       "      <td>8029.874592</td>\n",
       "    </tr>\n",
       "    <tr>\n",
       "      <th>std</th>\n",
       "      <td>34.551795</td>\n",
       "      <td>287.558038</td>\n",
       "      <td>30490.490723</td>\n",
       "      <td>6916.708246</td>\n",
       "    </tr>\n",
       "    <tr>\n",
       "      <th>min</th>\n",
       "      <td>61.000000</td>\n",
       "      <td>0.423310</td>\n",
       "      <td>0.000000</td>\n",
       "      <td>1898.007675</td>\n",
       "    </tr>\n",
       "    <tr>\n",
       "      <th>25%</th>\n",
       "      <td>68.000000</td>\n",
       "      <td>266.932542</td>\n",
       "      <td>0.000000</td>\n",
       "      <td>3954.344534</td>\n",
       "    </tr>\n",
       "    <tr>\n",
       "      <th>50%</th>\n",
       "      <td>82.000000</td>\n",
       "      <td>379.200000</td>\n",
       "      <td>34322.000000</td>\n",
       "      <td>5800.188903</td>\n",
       "    </tr>\n",
       "    <tr>\n",
       "      <th>75%</th>\n",
       "      <td>109.000000</td>\n",
       "      <td>549.986128</td>\n",
       "      <td>62464.000000</td>\n",
       "      <td>9031.214859</td>\n",
       "    </tr>\n",
       "    <tr>\n",
       "      <th>max</th>\n",
       "      <td>297.000000</td>\n",
       "      <td>2759.794354</td>\n",
       "      <td>99934.000000</td>\n",
       "      <td>83325.381190</td>\n",
       "    </tr>\n",
       "  </tbody>\n",
       "</table>\n",
       "</div>"
      ],
      "text/plain": [
       "       Monthly Premium Auto  Total Claim Amount        Income  \\\n",
       "count           5669.000000         5669.000000   5669.000000   \n",
       "mean              93.026989          431.407103  37868.188569   \n",
       "std               34.551795          287.558038  30490.490723   \n",
       "min               61.000000            0.423310      0.000000   \n",
       "25%               68.000000          266.932542      0.000000   \n",
       "50%               82.000000          379.200000  34322.000000   \n",
       "75%              109.000000          549.986128  62464.000000   \n",
       "max              297.000000         2759.794354  99934.000000   \n",
       "\n",
       "       Customer Lifetime Value  \n",
       "count              5669.000000  \n",
       "mean               8029.874592  \n",
       "std                6916.708246  \n",
       "min                1898.007675  \n",
       "25%                3954.344534  \n",
       "50%                5800.188903  \n",
       "75%                9031.214859  \n",
       "max               83325.381190  "
      ]
     },
     "execution_count": 12,
     "metadata": {},
     "output_type": "execute_result"
    }
   ],
   "source": [
    "# Check statistics descriptive\n",
    "features = [feature for feature in df_clean.columns if ((df_clean[feature].dtypes != 'object'))]\n",
    "df_clean[features].describe()"
   ]
  },
  {
   "cell_type": "markdown",
   "id": "5e41c218",
   "metadata": {},
   "source": [
    "There is a value that should not be 0 because it is not possible to have no income and can pay for insurance. Therefore, data that has a value of Income = 0 is better if the data is filled with the iterative imputer with prediction linear value of Income. In addition, in order to build a better predictive model, we filter the data again by only selecting the Total claim amount which has a minimum of 50 so below 50 will not be used for the modeling process."
   ]
  },
  {
   "cell_type": "code",
   "execution_count": 13,
   "id": "501f02e7",
   "metadata": {},
   "outputs": [
    {
     "data": {
      "text/plain": [
       "1429"
      ]
     },
     "execution_count": 13,
     "metadata": {},
     "output_type": "execute_result"
    }
   ],
   "source": [
    "df_clean[df_clean['Income'] == 0]['Income'].count()"
   ]
  },
  {
   "cell_type": "code",
   "execution_count": 14,
   "id": "033ab4fe",
   "metadata": {},
   "outputs": [
    {
     "data": {
      "text/plain": [
       "0       11828.0\n",
       "1       44762.0\n",
       "2       21514.0\n",
       "3       17913.0\n",
       "4       19030.0\n",
       "         ...   \n",
       "5664        NaN\n",
       "5665    27778.0\n",
       "5666    84658.0\n",
       "5667    22705.0\n",
       "5668    60184.0\n",
       "Name: Income, Length: 5669, dtype: float64"
      ]
     },
     "execution_count": 14,
     "metadata": {},
     "output_type": "execute_result"
    }
   ],
   "source": [
    "df_clean['Income'].replace(0.000000, np.nan)"
   ]
  },
  {
   "cell_type": "markdown",
   "id": "9844392e",
   "metadata": {},
   "source": [
    "It can be seen that income 0 may occur due to government subsidies or legal provisions that there are some people who have subsidized vehicles, the data which is automatically not changed and not all data is filled with the mean."
   ]
  },
  {
   "cell_type": "code",
   "execution_count": 15,
   "id": "ee229799",
   "metadata": {},
   "outputs": [
    {
     "data": {
      "text/plain": [
       "276"
      ]
     },
     "execution_count": 15,
     "metadata": {},
     "output_type": "execute_result"
    }
   ],
   "source": [
    "df_clean[df_clean['Total Claim Amount'] < 50]['Total Claim Amount'].count()"
   ]
  },
  {
   "cell_type": "code",
   "execution_count": 16,
   "id": "6d0cf961",
   "metadata": {},
   "outputs": [],
   "source": [
    "# Drop data dengan nilai Total claim amount < 50\n",
    "df_clean = df_clean[(df_clean['Total Claim Amount'] > 50)]"
   ]
  },
  {
   "cell_type": "markdown",
   "id": "e7208cc5",
   "metadata": {},
   "source": [
    "### Data Correlation"
   ]
  },
  {
   "cell_type": "code",
   "execution_count": 17,
   "id": "591fc8da",
   "metadata": {},
   "outputs": [
    {
     "data": {
      "image/png": "[encoded data removed]",
      "text/plain": [
       "<Figure size 1080x864 with 2 Axes>"
      ]
     },
     "metadata": {
      "needs_background": "light"
     },
     "output_type": "display_data"
    }
   ],
   "source": [
    "# Correlation matrix\n",
    "plt.figure(figsize=(15, 12))\n",
    "palette=sns.diverging_palette(20, 220, n=256)\n",
    "corr = df_clean.corr(method='spearman')\n",
    "sns.heatmap(corr, annot=True, fmt='.2f', square=True, linewidths=.5)\n",
    "plt.title('Correlation Matrix', size=20, weight='bold');"
   ]
  },
  {
   "cell_type": "markdown",
   "id": "8634cb19",
   "metadata": {},
   "source": [
    "The correlation matrix shows that there is no feature that has a strong correlation to the Customer Lifetime Value feature. The highest correlation is owned by **Monthly Premium Auto** features, where the correlation is a positive correlation. This mean that the further transaction, the higher the customer value.\n",
    "\n",
    "We would examine the distribution of data and outliers for the respective numerical features. If the distribution has a high skewness, one way we can reduce it is by engineering each of its features."
   ]
  },
  {
   "cell_type": "markdown",
   "id": "2733f1c1",
   "metadata": {},
   "source": [
    "### Outliers\n",
    "\n",
    "The number of outliers in the data will certainly affect the results of the analysis and modeling carried out. There are several things that must be considered before deciding on a treatment that is in accordance with the data, including considering the domain knowledge side."
   ]
  },
  {
   "cell_type": "code",
   "execution_count": 18,
   "id": "61a4ca3b",
   "metadata": {},
   "outputs": [
    {
     "data": {
      "image/png": "[encoded data removed]",
      "text/plain": [
       "<Figure size 432x288 with 1 Axes>"
      ]
     },
     "metadata": {
      "needs_background": "light"
     },
     "output_type": "display_data"
    }
   ],
   "source": [
    "# Boxplot to check outliers\n",
    "df_clean.boxplot(rot=60);"
   ]
  },
  {
   "cell_type": "markdown",
   "id": "a81377ac",
   "metadata": {},
   "source": [
    "There are a lot of outliers in some features. In this project, to create a dataset that is cleaner from outliers and analysis with data engineering on the features by considering the combination of the results of the IQR method and also the domain knowledge. Later, the resulting model can only predict new listings whose values are in the data range based on this 'clean dataset' only. Outside the data range, the prediction results from the model will be biased."
   ]
  },
  {
   "cell_type": "code",
   "execution_count": 19,
   "id": "ac0b235e",
   "metadata": {},
   "outputs": [],
   "source": [
    "# Check Outliers Function\n",
    "def check_anomalies(data):\n",
    "    Q1 = data.quantile(0.25)\n",
    "    Q3 = data.quantile(0.75)\n",
    "    IQR =  Q3 - Q1\n",
    "    BOUND = IQR*1.5\n",
    "    print(f'IQR: {IQR}')\n",
    "\n",
    "    Below = Q1 - BOUND\n",
    "    Above = Q3 + BOUND\n",
    "    print(f'pale below: {Below}')\n",
    "    print(f'pale above: {Above}') "
   ]
  },
  {
   "cell_type": "code",
   "execution_count": 20,
   "id": "1a71d374",
   "metadata": {},
   "outputs": [
    {
     "name": "stdout",
     "output_type": "stream",
     "text": [
      "IQR: 5086.590234000001\n",
      "pale below: -3658.540254000002\n",
      "pale above: 16687.820682\n"
     ]
    }
   ],
   "source": [
    "# Outliers of CLV\n",
    "check_anomalies(df_clean['Customer Lifetime Value'])"
   ]
  },
  {
   "cell_type": "code",
   "execution_count": 21,
   "id": "0efb069e",
   "metadata": {},
   "outputs": [
    {
     "name": "stdout",
     "output_type": "stream",
     "text": [
      "IQR: 61321.0\n",
      "pale below: -91981.5\n",
      "pale above: 153302.5\n"
     ]
    }
   ],
   "source": [
    "# Outliers of Income\n",
    "check_anomalies(df_clean['Income'])"
   ]
  },
  {
   "cell_type": "code",
   "execution_count": 22,
   "id": "bd911a72",
   "metadata": {},
   "outputs": [
    {
     "name": "stdout",
     "output_type": "stream",
     "text": [
      "IQR: 265.29935700000004\n",
      "pale below: -105.14903550000002\n",
      "pale above: 956.0483925000001\n"
     ]
    }
   ],
   "source": [
    "# Outliers of Total Claim Amount\n",
    "check_anomalies(df_clean['Total Claim Amount'])"
   ]
  },
  {
   "cell_type": "code",
   "execution_count": 23,
   "id": "34b083dc",
   "metadata": {},
   "outputs": [
    {
     "name": "stdout",
     "output_type": "stream",
     "text": [
      "IQR: 40.0\n",
      "pale below: 9.0\n",
      "pale above: 169.0\n"
     ]
    }
   ],
   "source": [
    "# Outliers of Monthly Premium Auto\n",
    "check_anomalies(df_clean['Monthly Premium Auto'])"
   ]
  },
  {
   "cell_type": "markdown",
   "id": "3c94fb50",
   "metadata": {},
   "source": [
    "The data above is the range of data required by data analysis to avoid bias"
   ]
  },
  {
   "cell_type": "markdown",
   "id": "1bb04942",
   "metadata": {},
   "source": [
    "## Feature Engineering"
   ]
  },
  {
   "cell_type": "markdown",
   "id": "9f78cb73",
   "metadata": {},
   "source": [
    "**Customer Lifetime Value**"
   ]
  },
  {
   "cell_type": "code",
   "execution_count": 24,
   "id": "e268d026",
   "metadata": {},
   "outputs": [
    {
     "data": {
      "text/plain": [
       "count     5393.000000\n",
       "mean      8081.480954\n",
       "std       6984.207103\n",
       "min       1898.007675\n",
       "25%       3971.345097\n",
       "50%       5824.224192\n",
       "75%       9057.935331\n",
       "max      83325.381190\n",
       "Name: Customer Lifetime Value, dtype: float64"
      ]
     },
     "execution_count": 24,
     "metadata": {},
     "output_type": "execute_result"
    }
   ],
   "source": [
    "df_clean['Customer Lifetime Value'].describe()"
   ]
  },
  {
   "cell_type": "code",
   "execution_count": 25,
   "id": "0a153ad8",
   "metadata": {},
   "outputs": [
    {
     "data": {
      "text/plain": [
       "481"
      ]
     },
     "execution_count": 25,
     "metadata": {},
     "output_type": "execute_result"
    }
   ],
   "source": [
    "# CLV Check Anomalies\n",
    "df_clean[df_clean['Customer Lifetime Value'] > 16687.82 ].count()['Customer Lifetime Value']"
   ]
  },
  {
   "cell_type": "code",
   "execution_count": 26,
   "id": "ce203014",
   "metadata": {},
   "outputs": [
    {
     "data": {
      "image/png": "[encoded data removed]",
      "text/plain": [
       "<Figure size 1512x432 with 2 Axes>"
      ]
     },
     "metadata": {
      "needs_background": "light"
     },
     "output_type": "display_data"
    }
   ],
   "source": [
    "# Filter Data\n",
    "df_clean = df_clean[(df_clean['Customer Lifetime Value'] <= 16687.82)]\n",
    "\n",
    "# Plot filter data\n",
    "fig, axes = plt.subplots(1,2, figsize=(21, 6))\n",
    "sns.distplot(df['Customer Lifetime Value'], ax=axes[0])\n",
    "sns.distplot(df_clean['Customer Lifetime Value'], ax=axes[1])\n",
    "axes[0].set_xlabel('CLV')\n",
    "axes[1].set_xlabel('Range IQR CLV');"
   ]
  },
  {
   "cell_type": "code",
   "execution_count": 27,
   "id": "fc7f9dd1",
   "metadata": {},
   "outputs": [
    {
     "data": {
      "text/plain": [
       "count     4912.000000\n",
       "mean      6341.038511\n",
       "std       3335.247184\n",
       "min       1898.007675\n",
       "25%       3732.502888\n",
       "50%       5503.432918\n",
       "75%       8239.395597\n",
       "max      16681.326340\n",
       "Name: Customer Lifetime Value, dtype: float64"
      ]
     },
     "execution_count": 27,
     "metadata": {},
     "output_type": "execute_result"
    }
   ],
   "source": [
    "#after filter data\n",
    "df_clean['Customer Lifetime Value'].describe()"
   ]
  },
  {
   "cell_type": "markdown",
   "id": "a0ba9b6f",
   "metadata": {},
   "source": [
    "The range of data in CLV is found at 16687.82 while the maximum value in CLV is 83325, there will be a lot of data outliers that will affect the data and must match the range of data required in the analysis, so filtering this data will reduce the risk of data being biased."
   ]
  },
  {
   "cell_type": "markdown",
   "id": "a008400e",
   "metadata": {},
   "source": [
    "**Income**"
   ]
  },
  {
   "cell_type": "code",
   "execution_count": 28,
   "id": "737b7486",
   "metadata": {},
   "outputs": [
    {
     "data": {
      "text/plain": [
       "count     4912.000000\n",
       "mean     37033.857899\n",
       "std      30458.383189\n",
       "min          0.000000\n",
       "25%          0.000000\n",
       "50%      32912.000000\n",
       "75%      61105.250000\n",
       "max      99934.000000\n",
       "Name: Income, dtype: float64"
      ]
     },
     "execution_count": 28,
     "metadata": {},
     "output_type": "execute_result"
    }
   ],
   "source": [
    "df_clean['Income'].describe()"
   ]
  },
  {
   "cell_type": "code",
   "execution_count": 29,
   "id": "e802d0ef",
   "metadata": {},
   "outputs": [
    {
     "data": {
      "text/plain": [
       "0"
      ]
     },
     "execution_count": 29,
     "metadata": {},
     "output_type": "execute_result"
    }
   ],
   "source": [
    "df_clean[df_clean['Income']> 153302.5].count()['Income']"
   ]
  },
  {
   "cell_type": "code",
   "execution_count": 30,
   "id": "d59f8d73",
   "metadata": {},
   "outputs": [
    {
     "data": {
      "image/png": "[encoded data removed]",
      "text/plain": [
       "<Figure size 1512x432 with 2 Axes>"
      ]
     },
     "metadata": {
      "needs_background": "light"
     },
     "output_type": "display_data"
    }
   ],
   "source": [
    "# Filter Data\n",
    "df_clean = df_clean[(df_clean['Income'] <= 153302.5)]\n",
    "\n",
    "# Plot filter data\n",
    "fig, axes = plt.subplots(1,2, figsize=(21, 6))\n",
    "sns.distplot(df['Income'], ax=axes[0])\n",
    "sns.distplot(df_clean['Income'], ax=axes[1])\n",
    "axes[0].set_xlabel('Income')\n",
    "axes[1].set_xlabel('Range IQR Income');"
   ]
  },
  {
   "cell_type": "markdown",
   "id": "e5106061",
   "metadata": {},
   "source": [
    "For income, it appears that the income range does not have an upper range advantage but has a value of less than 10000, almost 25 percent of the existing data, it will be left alone because the income feature has full significance to the analysis so that the range also looks high skewness."
   ]
  },
  {
   "cell_type": "markdown",
   "id": "ae02521d",
   "metadata": {},
   "source": [
    "**Total Claim Amount**"
   ]
  },
  {
   "cell_type": "code",
   "execution_count": 31,
   "id": "3099c2ab",
   "metadata": {},
   "outputs": [
    {
     "data": {
      "text/plain": [
       "count    4912.000000\n",
       "mean      442.793884\n",
       "std       265.914906\n",
       "min        50.171541\n",
       "25%       292.800000\n",
       "50%       392.103016\n",
       "75%       552.873537\n",
       "max      2759.794354\n",
       "Name: Total Claim Amount, dtype: float64"
      ]
     },
     "execution_count": 31,
     "metadata": {},
     "output_type": "execute_result"
    }
   ],
   "source": [
    "df_clean['Total Claim Amount'].describe()"
   ]
  },
  {
   "cell_type": "code",
   "execution_count": 32,
   "id": "e04990ba",
   "metadata": {},
   "outputs": [
    {
     "data": {
      "text/plain": [
       "213"
      ]
     },
     "execution_count": 32,
     "metadata": {},
     "output_type": "execute_result"
    }
   ],
   "source": [
    "# Total Claim Amount check anomalies \n",
    "df_clean[df_clean['Total Claim Amount'] > 956.04 ].count()['Total Claim Amount']"
   ]
  },
  {
   "cell_type": "code",
   "execution_count": 33,
   "id": "53d083d3",
   "metadata": {},
   "outputs": [
    {
     "data": {
      "image/png": "[encoded data removed]",
      "text/plain": [
       "<Figure size 1512x432 with 2 Axes>"
      ]
     },
     "metadata": {
      "needs_background": "light"
     },
     "output_type": "display_data"
    }
   ],
   "source": [
    "# Filter data\n",
    "df_clean = df_clean[(df_clean['Total Claim Amount'] <= 956.04)]\n",
    "\n",
    "# Plot filter data\n",
    "fig, axes = plt.subplots(1,2, figsize=(21, 6))\n",
    "sns.distplot(df['Total Claim Amount'], ax=axes[0])\n",
    "sns.distplot(df_clean['Total Claim Amount'], ax=axes[1])\n",
    "axes[0].set_xlabel('Total Claim Amount')\n",
    "axes[1].set_xlabel('Range IQR TCA');"
   ]
  },
  {
   "cell_type": "markdown",
   "id": "a15cedb6",
   "metadata": {},
   "source": [
    "The range of data in the Total Claim Amount is 2759.79 while the maximum value in the Total Claim Amount is 956.04, there will be a lot of data outliers that will affect the data and must match the data range required in the analysis, so filtering this data will reduce the risk of data bias."
   ]
  },
  {
   "cell_type": "markdown",
   "id": "01f3303f",
   "metadata": {},
   "source": [
    "**Monthly Premium Auto**"
   ]
  },
  {
   "cell_type": "code",
   "execution_count": 34,
   "id": "f04e406a",
   "metadata": {},
   "outputs": [
    {
     "data": {
      "text/plain": [
       "count    4699.000000\n",
       "mean       88.230900\n",
       "std        26.200014\n",
       "min        61.000000\n",
       "25%        68.000000\n",
       "50%        79.000000\n",
       "75%       105.000000\n",
       "max       285.000000\n",
       "Name: Monthly Premium Auto, dtype: float64"
      ]
     },
     "execution_count": 34,
     "metadata": {},
     "output_type": "execute_result"
    }
   ],
   "source": [
    "df_clean['Monthly Premium Auto'].describe()"
   ]
  },
  {
   "cell_type": "code",
   "execution_count": 35,
   "id": "83b393a0",
   "metadata": {},
   "outputs": [
    {
     "data": {
      "text/plain": [
       "91"
      ]
     },
     "execution_count": 35,
     "metadata": {},
     "output_type": "execute_result"
    }
   ],
   "source": [
    "# Monthly Premium Auto check anomalies\n",
    "df_clean[df_clean['Monthly Premium Auto'] > 169].count()['Monthly Premium Auto']"
   ]
  },
  {
   "cell_type": "code",
   "execution_count": 36,
   "id": "dda69597",
   "metadata": {},
   "outputs": [
    {
     "data": {
      "image/png": "[encoded data removed]",
      "text/plain": [
       "<Figure size 1512x432 with 2 Axes>"
      ]
     },
     "metadata": {
      "needs_background": "light"
     },
     "output_type": "display_data"
    }
   ],
   "source": [
    "# Filter data\n",
    "df_clean = df_clean[(df_clean['Monthly Premium Auto'] <= 169)]\n",
    "\n",
    "# Plot filter data\n",
    "fig, axes = plt.subplots(1,2, figsize=(21, 6))\n",
    "sns.distplot(df['Monthly Premium Auto'], ax=axes[0])\n",
    "sns.distplot(df_clean['Monthly Premium Auto'], ax=axes[1])\n",
    "axes[0].set_xlabel('Monthly Premium Auto')\n",
    "axes[1].set_xlabel('Range IQR MPA');"
   ]
  },
  {
   "cell_type": "markdown",
   "id": "9fd5f0df",
   "metadata": {},
   "source": [
    "The range of data in Monthly Premium Auto is 285, while the maximum value in Monthly Premium Auto is 169, there will be a lot of data outliers that will affect the data and must match the range of data required in the analysis, so filtering this data will reduce the risk of the data being biased."
   ]
  },
  {
   "cell_type": "markdown",
   "id": "fd875b03",
   "metadata": {},
   "source": [
    "## Clean Dataset"
   ]
  },
  {
   "cell_type": "code",
   "execution_count": 37,
   "id": "853d5bfa",
   "metadata": {},
   "outputs": [
    {
     "data": {
      "image/png": "[encoded data removed]",
      "text/plain": [
       "<Figure size 432x288 with 1 Axes>"
      ]
     },
     "metadata": {
      "needs_background": "light"
     },
     "output_type": "display_data"
    }
   ],
   "source": [
    "# Boxplot to check outliers\n",
    "df_clean.boxplot(rot=60);"
   ]
  },
  {
   "cell_type": "markdown",
   "id": "fd3567ce",
   "metadata": {},
   "source": [
    "In the plot above, although it still has outliers, but if it's in the range of data required, the outliers can be concluded as **general ouliers** because there are indeed some people who have high value in the customer as well as some supportive customer circumstances to make themselves different from other customers so that can not be avoided."
   ]
  },
  {
   "cell_type": "code",
   "execution_count": 38,
   "id": "29872923",
   "metadata": {},
   "outputs": [
    {
     "data": {
      "text/html": [
       "<div>\n",
       "<style scoped>\n",
       "    .dataframe tbody tr th:only-of-type {\n",
       "        vertical-align: middle;\n",
       "    }\n",
       "\n",
       "    .dataframe tbody tr th {\n",
       "        vertical-align: top;\n",
       "    }\n",
       "\n",
       "    .dataframe thead th {\n",
       "        text-align: right;\n",
       "    }\n",
       "</style>\n",
       "<table border=\"1\" class=\"dataframe\">\n",
       "  <thead>\n",
       "    <tr style=\"text-align: right;\">\n",
       "      <th></th>\n",
       "      <th>Vehicle Class</th>\n",
       "      <th>Coverage</th>\n",
       "      <th>Renew Offer Type</th>\n",
       "      <th>EmploymentStatus</th>\n",
       "      <th>Marital Status</th>\n",
       "      <th>Monthly Premium Auto</th>\n",
       "      <th>Total Claim Amount</th>\n",
       "      <th>Income</th>\n",
       "      <th>Customer Lifetime Value</th>\n",
       "    </tr>\n",
       "  </thead>\n",
       "  <tbody>\n",
       "    <tr>\n",
       "      <th>0</th>\n",
       "      <td>Four-Door Car</td>\n",
       "      <td>Extended</td>\n",
       "      <td>Offer1</td>\n",
       "      <td>Retired</td>\n",
       "      <td>Divorced</td>\n",
       "      <td>90.0</td>\n",
       "      <td>571.479602</td>\n",
       "      <td>11828.0</td>\n",
       "      <td>10083.486880</td>\n",
       "    </tr>\n",
       "    <tr>\n",
       "      <th>1</th>\n",
       "      <td>Four-Door Car</td>\n",
       "      <td>Basic</td>\n",
       "      <td>Offer1</td>\n",
       "      <td>Employed</td>\n",
       "      <td>Married</td>\n",
       "      <td>62.0</td>\n",
       "      <td>114.514440</td>\n",
       "      <td>44762.0</td>\n",
       "      <td>4943.386117</td>\n",
       "    </tr>\n",
       "    <tr>\n",
       "      <th>2</th>\n",
       "      <td>Two-Door Car</td>\n",
       "      <td>Basic</td>\n",
       "      <td>Offer1</td>\n",
       "      <td>Retired</td>\n",
       "      <td>Married</td>\n",
       "      <td>62.0</td>\n",
       "      <td>257.248789</td>\n",
       "      <td>21514.0</td>\n",
       "      <td>11981.984810</td>\n",
       "    </tr>\n",
       "    <tr>\n",
       "      <th>3</th>\n",
       "      <td>Four-Door Car</td>\n",
       "      <td>Premium</td>\n",
       "      <td>Offer3</td>\n",
       "      <td>Disabled</td>\n",
       "      <td>Married</td>\n",
       "      <td>116.0</td>\n",
       "      <td>556.800000</td>\n",
       "      <td>17913.0</td>\n",
       "      <td>4550.856045</td>\n",
       "    </tr>\n",
       "    <tr>\n",
       "      <th>4</th>\n",
       "      <td>Two-Door Car</td>\n",
       "      <td>Basic</td>\n",
       "      <td>Offer3</td>\n",
       "      <td>Medical Leave</td>\n",
       "      <td>Married</td>\n",
       "      <td>62.0</td>\n",
       "      <td>355.820799</td>\n",
       "      <td>19030.0</td>\n",
       "      <td>2372.155492</td>\n",
       "    </tr>\n",
       "  </tbody>\n",
       "</table>\n",
       "</div>"
      ],
      "text/plain": [
       "   Vehicle Class  Coverage Renew Offer Type EmploymentStatus Marital Status  \\\n",
       "0  Four-Door Car  Extended           Offer1          Retired       Divorced   \n",
       "1  Four-Door Car     Basic           Offer1         Employed        Married   \n",
       "2   Two-Door Car     Basic           Offer1          Retired        Married   \n",
       "3  Four-Door Car   Premium           Offer3         Disabled        Married   \n",
       "4   Two-Door Car     Basic           Offer3    Medical Leave        Married   \n",
       "\n",
       "   Monthly Premium Auto  Total Claim Amount   Income  Customer Lifetime Value  \n",
       "0                  90.0          571.479602  11828.0             10083.486880  \n",
       "1                  62.0          114.514440  44762.0              4943.386117  \n",
       "2                  62.0          257.248789  21514.0             11981.984810  \n",
       "3                 116.0          556.800000  17913.0              4550.856045  \n",
       "4                  62.0          355.820799  19030.0              2372.155492  "
      ]
     },
     "execution_count": 38,
     "metadata": {},
     "output_type": "execute_result"
    }
   ],
   "source": [
    "# Dataset\n",
    "df_clean.head()"
   ]
  },
  {
   "cell_type": "code",
   "execution_count": 39,
   "id": "9e5e5aa6",
   "metadata": {},
   "outputs": [
    {
     "name": "stdout",
     "output_type": "stream",
     "text": [
      "<class 'pandas.core.frame.DataFrame'>\n",
      "Int64Index: 4608 entries, 0 to 5665\n",
      "Data columns (total 9 columns):\n",
      " #   Column                   Non-Null Count  Dtype  \n",
      "---  ------                   --------------  -----  \n",
      " 0   Vehicle Class            4608 non-null   object \n",
      " 1   Coverage                 4608 non-null   object \n",
      " 2   Renew Offer Type         4608 non-null   object \n",
      " 3   EmploymentStatus         4608 non-null   object \n",
      " 4   Marital Status           4608 non-null   object \n",
      " 5   Monthly Premium Auto     4608 non-null   float64\n",
      " 6   Total Claim Amount       4608 non-null   float64\n",
      " 7   Income                   4608 non-null   float64\n",
      " 8   Customer Lifetime Value  4608 non-null   float64\n",
      "dtypes: float64(4), object(5)\n",
      "memory usage: 360.0+ KB\n"
     ]
    }
   ],
   "source": [
    "#Data Info\n",
    "df_clean.info()"
   ]
  },
  {
   "cell_type": "markdown",
   "id": "babe4211",
   "metadata": {},
   "source": [
    "It can be seen that the total final data to be analyzed after going through preprocessing and feature engineering has 4608 data with 9 features"
   ]
  },
  {
   "cell_type": "markdown",
   "id": "dcf7b89d",
   "metadata": {},
   "source": [
    "# Model Machine Learning"
   ]
  },
  {
   "cell_type": "code",
   "execution_count": 40,
   "id": "effbe51a",
   "metadata": {},
   "outputs": [],
   "source": [
    "# Import library\n",
    "\n",
    "from sklearn.model_selection import train_test_split, cross_val_score, RandomizedSearchCV, KFold\n",
    "\n",
    "import category_encoders as ce\n",
    "from sklearn.preprocessing import OneHotEncoder\n",
    "from sklearn.preprocessing import OrdinalEncoder\n",
    "from sklearn.compose import ColumnTransformer\n",
    "from sklearn.pipeline import Pipeline\n",
    "from sklearn.experimental import enable_iterative_imputer\n",
    "from sklearn.impute import IterativeImputer\n",
    "\n",
    "from sklearn.linear_model import LinearRegression\n",
    "from sklearn.neighbors import KNeighborsRegressor\n",
    "from sklearn.tree import DecisionTreeRegressor\n",
    "from sklearn.ensemble import RandomForestRegressor\n",
    "from xgboost.sklearn import XGBRegressor\n",
    "from sklearn.compose import TransformedTargetRegressor\n",
    "\n",
    "from sklearn.preprocessing import RobustScaler\n",
    "\n",
    "from sklearn.metrics import mean_squared_error, mean_absolute_error, mean_absolute_percentage_error"
   ]
  },
  {
   "cell_type": "markdown",
   "id": "fd0a5f19",
   "metadata": {},
   "source": [
    "## Encoder\n",
    "\n",
    "In order to use all the selected features, the categorical features must be converted to numerical features. We can use ColumnTransformer to change this data type, which can later be applied to the model pipeline.\n",
    "\n",
    "1. onehot = Coverage , Renew Offer Type \n",
    "2. binary = Vehicle Class , EmploymentStatus"
   ]
  },
  {
   "cell_type": "code",
   "execution_count": 41,
   "id": "85c4e397",
   "metadata": {},
   "outputs": [
    {
     "data": {
      "text/html": [
       "<div>\n",
       "<style scoped>\n",
       "    .dataframe tbody tr th:only-of-type {\n",
       "        vertical-align: middle;\n",
       "    }\n",
       "\n",
       "    .dataframe tbody tr th {\n",
       "        vertical-align: top;\n",
       "    }\n",
       "\n",
       "    .dataframe thead th {\n",
       "        text-align: right;\n",
       "    }\n",
       "</style>\n",
       "<table border=\"1\" class=\"dataframe\">\n",
       "  <thead>\n",
       "    <tr style=\"text-align: right;\">\n",
       "      <th></th>\n",
       "      <th>Vehicle Class</th>\n",
       "      <th>Coverage</th>\n",
       "      <th>Renew Offer Type</th>\n",
       "      <th>EmploymentStatus</th>\n",
       "      <th>Marital Status</th>\n",
       "      <th>Monthly Premium Auto</th>\n",
       "      <th>Total Claim Amount</th>\n",
       "      <th>Income</th>\n",
       "      <th>Customer Lifetime Value</th>\n",
       "    </tr>\n",
       "  </thead>\n",
       "  <tbody>\n",
       "    <tr>\n",
       "      <th>0</th>\n",
       "      <td>Four-Door Car</td>\n",
       "      <td>Extended</td>\n",
       "      <td>Offer1</td>\n",
       "      <td>Retired</td>\n",
       "      <td>Divorced</td>\n",
       "      <td>90.0</td>\n",
       "      <td>571.479602</td>\n",
       "      <td>11828.0</td>\n",
       "      <td>10083.486880</td>\n",
       "    </tr>\n",
       "    <tr>\n",
       "      <th>1</th>\n",
       "      <td>Four-Door Car</td>\n",
       "      <td>Basic</td>\n",
       "      <td>Offer1</td>\n",
       "      <td>Employed</td>\n",
       "      <td>Married</td>\n",
       "      <td>62.0</td>\n",
       "      <td>114.514440</td>\n",
       "      <td>44762.0</td>\n",
       "      <td>4943.386117</td>\n",
       "    </tr>\n",
       "    <tr>\n",
       "      <th>2</th>\n",
       "      <td>Two-Door Car</td>\n",
       "      <td>Basic</td>\n",
       "      <td>Offer1</td>\n",
       "      <td>Retired</td>\n",
       "      <td>Married</td>\n",
       "      <td>62.0</td>\n",
       "      <td>257.248789</td>\n",
       "      <td>21514.0</td>\n",
       "      <td>11981.984810</td>\n",
       "    </tr>\n",
       "    <tr>\n",
       "      <th>3</th>\n",
       "      <td>Four-Door Car</td>\n",
       "      <td>Premium</td>\n",
       "      <td>Offer3</td>\n",
       "      <td>Disabled</td>\n",
       "      <td>Married</td>\n",
       "      <td>116.0</td>\n",
       "      <td>556.800000</td>\n",
       "      <td>17913.0</td>\n",
       "      <td>4550.856045</td>\n",
       "    </tr>\n",
       "    <tr>\n",
       "      <th>4</th>\n",
       "      <td>Two-Door Car</td>\n",
       "      <td>Basic</td>\n",
       "      <td>Offer3</td>\n",
       "      <td>Medical Leave</td>\n",
       "      <td>Married</td>\n",
       "      <td>62.0</td>\n",
       "      <td>355.820799</td>\n",
       "      <td>19030.0</td>\n",
       "      <td>2372.155492</td>\n",
       "    </tr>\n",
       "    <tr>\n",
       "      <th>...</th>\n",
       "      <td>...</td>\n",
       "      <td>...</td>\n",
       "      <td>...</td>\n",
       "      <td>...</td>\n",
       "      <td>...</td>\n",
       "      <td>...</td>\n",
       "      <td>...</td>\n",
       "      <td>...</td>\n",
       "      <td>...</td>\n",
       "    </tr>\n",
       "    <tr>\n",
       "      <th>5659</th>\n",
       "      <td>Two-Door Car</td>\n",
       "      <td>Basic</td>\n",
       "      <td>Offer1</td>\n",
       "      <td>Retired</td>\n",
       "      <td>Divorced</td>\n",
       "      <td>71.0</td>\n",
       "      <td>697.798804</td>\n",
       "      <td>10787.0</td>\n",
       "      <td>4995.171200</td>\n",
       "    </tr>\n",
       "    <tr>\n",
       "      <th>5660</th>\n",
       "      <td>Two-Door Car</td>\n",
       "      <td>Basic</td>\n",
       "      <td>Offer2</td>\n",
       "      <td>Unemployed</td>\n",
       "      <td>Single</td>\n",
       "      <td>72.0</td>\n",
       "      <td>391.636628</td>\n",
       "      <td>0.0</td>\n",
       "      <td>4936.888359</td>\n",
       "    </tr>\n",
       "    <tr>\n",
       "      <th>5663</th>\n",
       "      <td>Four-Door Car</td>\n",
       "      <td>Basic</td>\n",
       "      <td>Offer1</td>\n",
       "      <td>Employed</td>\n",
       "      <td>Married</td>\n",
       "      <td>69.0</td>\n",
       "      <td>446.084760</td>\n",
       "      <td>30595.0</td>\n",
       "      <td>8114.409136</td>\n",
       "    </tr>\n",
       "    <tr>\n",
       "      <th>5664</th>\n",
       "      <td>Four-Door Car</td>\n",
       "      <td>Basic</td>\n",
       "      <td>Offer4</td>\n",
       "      <td>Unemployed</td>\n",
       "      <td>Single</td>\n",
       "      <td>74.0</td>\n",
       "      <td>532.800000</td>\n",
       "      <td>0.0</td>\n",
       "      <td>2442.216651</td>\n",
       "    </tr>\n",
       "    <tr>\n",
       "      <th>5665</th>\n",
       "      <td>Four-Door Car</td>\n",
       "      <td>Premium</td>\n",
       "      <td>Offer1</td>\n",
       "      <td>Employed</td>\n",
       "      <td>Divorced</td>\n",
       "      <td>109.0</td>\n",
       "      <td>523.200000</td>\n",
       "      <td>27778.0</td>\n",
       "      <td>12904.943360</td>\n",
       "    </tr>\n",
       "  </tbody>\n",
       "</table>\n",
       "<p>4608 rows × 9 columns</p>\n",
       "</div>"
      ],
      "text/plain": [
       "      Vehicle Class  Coverage Renew Offer Type EmploymentStatus  \\\n",
       "0     Four-Door Car  Extended           Offer1          Retired   \n",
       "1     Four-Door Car     Basic           Offer1         Employed   \n",
       "2      Two-Door Car     Basic           Offer1          Retired   \n",
       "3     Four-Door Car   Premium           Offer3         Disabled   \n",
       "4      Two-Door Car     Basic           Offer3    Medical Leave   \n",
       "...             ...       ...              ...              ...   \n",
       "5659   Two-Door Car     Basic           Offer1          Retired   \n",
       "5660   Two-Door Car     Basic           Offer2       Unemployed   \n",
       "5663  Four-Door Car     Basic           Offer1         Employed   \n",
       "5664  Four-Door Car     Basic           Offer4       Unemployed   \n",
       "5665  Four-Door Car   Premium           Offer1         Employed   \n",
       "\n",
       "     Marital Status  Monthly Premium Auto  Total Claim Amount   Income  \\\n",
       "0          Divorced                  90.0          571.479602  11828.0   \n",
       "1           Married                  62.0          114.514440  44762.0   \n",
       "2           Married                  62.0          257.248789  21514.0   \n",
       "3           Married                 116.0          556.800000  17913.0   \n",
       "4           Married                  62.0          355.820799  19030.0   \n",
       "...             ...                   ...                 ...      ...   \n",
       "5659       Divorced                  71.0          697.798804  10787.0   \n",
       "5660         Single                  72.0          391.636628      0.0   \n",
       "5663        Married                  69.0          446.084760  30595.0   \n",
       "5664         Single                  74.0          532.800000      0.0   \n",
       "5665       Divorced                 109.0          523.200000  27778.0   \n",
       "\n",
       "      Customer Lifetime Value  \n",
       "0                10083.486880  \n",
       "1                 4943.386117  \n",
       "2                11981.984810  \n",
       "3                 4550.856045  \n",
       "4                 2372.155492  \n",
       "...                       ...  \n",
       "5659              4995.171200  \n",
       "5660              4936.888359  \n",
       "5663              8114.409136  \n",
       "5664              2442.216651  \n",
       "5665             12904.943360  \n",
       "\n",
       "[4608 rows x 9 columns]"
      ]
     },
     "execution_count": 41,
     "metadata": {},
     "output_type": "execute_result"
    }
   ],
   "source": [
    "df_clean"
   ]
  },
  {
   "cell_type": "code",
   "execution_count": 42,
   "id": "23990d91",
   "metadata": {},
   "outputs": [],
   "source": [
    "# Change feature to Numeric\n",
    "transformer = ColumnTransformer([('One Hot', OneHotEncoder(), ['Coverage', 'Renew Offer Type', 'Marital Status']),\n",
    "                                 ('Binary', ce.BinaryEncoder(), ['Vehicle Class', 'EmploymentStatus']),\n",
    "                                 ('Imputer', IterativeImputer(), ['Income']),\n",
    "                                ], remainder='passthrough')"
   ]
  },
  {
   "cell_type": "markdown",
   "id": "46e22177",
   "metadata": {},
   "source": [
    "## Data Split"
   ]
  },
  {
   "cell_type": "code",
   "execution_count": 43,
   "id": "85afa011",
   "metadata": {},
   "outputs": [],
   "source": [
    "# Split data with independen and dependen variable\n",
    "X = df_clean.drop(['Customer Lifetime Value'], axis=1)\n",
    "y = df_clean['Customer Lifetime Value']"
   ]
  },
  {
   "cell_type": "code",
   "execution_count": 44,
   "id": "65432357",
   "metadata": {},
   "outputs": [],
   "source": [
    "# Splitting training and test data with a proportion 80:20\n",
    "X_train, X_test, y_train, y_test= train_test_split( X,\n",
    "                                                    y,  \n",
    "                                                    test_size=0.2,\n",
    "                                                    random_state=1)"
   ]
  },
  {
   "cell_type": "code",
   "execution_count": 45,
   "id": "776aefef",
   "metadata": {},
   "outputs": [
    {
     "name": "stdout",
     "output_type": "stream",
     "text": [
      "[-3194.83923576 -2879.51885503 -2736.90752545 -2952.49817716\n",
      " -3064.60759207] TransformedTargetRegressor(func=<ufunc 'log'>, inverse_func=<ufunc 'exp'>,\n",
      "                           regressor=LinearRegression())\n",
      "[-2464.61117481 -2250.05850496 -2101.55758403 -2253.20376405\n",
      " -2321.67818531] TransformedTargetRegressor(func=<ufunc 'log'>, inverse_func=<ufunc 'exp'>,\n",
      "                           regressor=LinearRegression())\n",
      "[-0.44597828 -0.40227956 -0.39523797 -0.40407395 -0.41218271] TransformedTargetRegressor(func=<ufunc 'log'>, inverse_func=<ufunc 'exp'>,\n",
      "                           regressor=LinearRegression())\n",
      "[-4006.17626325 -3920.97742182 -3570.74329324 -3843.72307924\n",
      " -3633.95372759] TransformedTargetRegressor(func=<ufunc 'log'>, inverse_func=<ufunc 'exp'>,\n",
      "                           regressor=DecisionTreeRegressor(random_state=1))\n",
      "[-2734.23785117 -2640.5200082  -2472.11677101 -2627.77809424\n",
      " -2360.17623887] TransformedTargetRegressor(func=<ufunc 'log'>, inverse_func=<ufunc 'exp'>,\n",
      "                           regressor=DecisionTreeRegressor(random_state=1))\n",
      "[-0.52681839 -0.49773972 -0.4784114  -0.49465099 -0.44052836] TransformedTargetRegressor(func=<ufunc 'log'>, inverse_func=<ufunc 'exp'>,\n",
      "                           regressor=DecisionTreeRegressor(random_state=1))\n",
      "[-3038.22640213 -2797.63833116 -2687.81771816 -2889.26821001\n",
      " -2805.04986805] TransformedTargetRegressor(func=<ufunc 'log'>, inverse_func=<ufunc 'exp'>,\n",
      "                           regressor=RandomForestRegressor(random_state=1))\n",
      "[-2217.76110808 -2072.31528834 -1922.4898475  -2120.34639937\n",
      " -2033.49879402] TransformedTargetRegressor(func=<ufunc 'log'>, inverse_func=<ufunc 'exp'>,\n",
      "                           regressor=RandomForestRegressor(random_state=1))\n",
      "[-0.40783906 -0.37620744 -0.36152867 -0.3871964  -0.36704069] TransformedTargetRegressor(func=<ufunc 'log'>, inverse_func=<ufunc 'exp'>,\n",
      "                           regressor=RandomForestRegressor(random_state=1))\n",
      "[-3217.79888493 -2978.67566376 -2848.46224246 -3047.91602924\n",
      " -3079.42393919] TransformedTargetRegressor(func=<ufunc 'log'>, inverse_func=<ufunc 'exp'>,\n",
      "                           regressor=KNeighborsRegressor())\n",
      "[-2430.87513993 -2247.62299717 -2148.22553005 -2270.42887231\n",
      " -2287.87821925] TransformedTargetRegressor(func=<ufunc 'log'>, inverse_func=<ufunc 'exp'>,\n",
      "                           regressor=KNeighborsRegressor())\n",
      "[-0.44147853 -0.40898325 -0.41026237 -0.41337908 -0.41587202] TransformedTargetRegressor(func=<ufunc 'log'>, inverse_func=<ufunc 'exp'>,\n",
      "                           regressor=KNeighborsRegressor())\n",
      "[-3163.67753537 -3000.65783116 -2796.22745571 -2914.97704087\n",
      " -2939.92426471] TransformedTargetRegressor(func=<ufunc 'log'>, inverse_func=<ufunc 'exp'>,\n",
      "                           regressor=XGBRegressor(base_score=None, booster=None,\n",
      "                                                  callbacks=None,\n",
      "                                                  colsample_bylevel=None,\n",
      "                                                  colsample_bynode=None,\n",
      "                                                  colsample_bytree=None,\n",
      "                                                  early_stopping_rounds=None,\n",
      "                                                  enable_categorical=False,\n",
      "                                                  eval_metric=None, gamma=None,\n",
      "                                                  gpu_id=None, grow_policy=None,\n",
      "                                                  importance_type=None,\n",
      "                                                  interaction_constraints=None,\n",
      "                                                  learning_rate=None,\n",
      "                                                  max_bin=None,\n",
      "                                                  max_cat_to_onehot=None,\n",
      "                                                  max_delta_step=None,\n",
      "                                                  max_depth=None,\n",
      "                                                  max_leaves=None,\n",
      "                                                  min_child_weight=None,\n",
      "                                                  missing=nan,\n",
      "                                                  monotone_constraints=None,\n",
      "                                                  n_estimators=100, n_jobs=None,\n",
      "                                                  num_parallel_tree=None,\n",
      "                                                  predictor=None,\n",
      "                                                  random_state=1,\n",
      "                                                  reg_alpha=None,\n",
      "                                                  reg_lambda=None, ...))\n",
      "[-2318.6439663  -2200.48539443 -1999.35168661 -2147.90202076\n",
      " -2136.08128372] TransformedTargetRegressor(func=<ufunc 'log'>, inverse_func=<ufunc 'exp'>,\n",
      "                           regressor=XGBRegressor(base_score=None, booster=None,\n",
      "                                                  callbacks=None,\n",
      "                                                  colsample_bylevel=None,\n",
      "                                                  colsample_bynode=None,\n",
      "                                                  colsample_bytree=None,\n",
      "                                                  early_stopping_rounds=None,\n",
      "                                                  enable_categorical=False,\n",
      "                                                  eval_metric=None, gamma=None,\n",
      "                                                  gpu_id=None, grow_policy=None,\n",
      "                                                  importance_type=None,\n",
      "                                                  interaction_constraints=None,\n",
      "                                                  learning_rate=None,\n",
      "                                                  max_bin=None,\n",
      "                                                  max_cat_to_onehot=None,\n",
      "                                                  max_delta_step=None,\n",
      "                                                  max_depth=None,\n",
      "                                                  max_leaves=None,\n",
      "                                                  min_child_weight=None,\n",
      "                                                  missing=nan,\n",
      "                                                  monotone_constraints=None,\n",
      "                                                  n_estimators=100, n_jobs=None,\n",
      "                                                  num_parallel_tree=None,\n",
      "                                                  predictor=None,\n",
      "                                                  random_state=1,\n",
      "                                                  reg_alpha=None,\n",
      "                                                  reg_lambda=None, ...))\n",
      "[-0.42194653 -0.40171043 -0.37155074 -0.39263867 -0.38563798] TransformedTargetRegressor(func=<ufunc 'log'>, inverse_func=<ufunc 'exp'>,\n",
      "                           regressor=XGBRegressor(base_score=None, booster=None,\n",
      "                                                  callbacks=None,\n",
      "                                                  colsample_bylevel=None,\n",
      "                                                  colsample_bynode=None,\n",
      "                                                  colsample_bytree=None,\n",
      "                                                  early_stopping_rounds=None,\n",
      "                                                  enable_categorical=False,\n",
      "                                                  eval_metric=None, gamma=None,\n",
      "                                                  gpu_id=None, grow_policy=None,\n",
      "                                                  importance_type=None,\n",
      "                                                  interaction_constraints=None,\n",
      "                                                  learning_rate=None,\n",
      "                                                  max_bin=None,\n",
      "                                                  max_cat_to_onehot=None,\n",
      "                                                  max_delta_step=None,\n",
      "                                                  max_depth=None,\n",
      "                                                  max_leaves=None,\n",
      "                                                  min_child_weight=None,\n",
      "                                                  missing=nan,\n",
      "                                                  monotone_constraints=None,\n",
      "                                                  n_estimators=100, n_jobs=None,\n",
      "                                                  num_parallel_tree=None,\n",
      "                                                  predictor=None,\n",
      "                                                  random_state=1,\n",
      "                                                  reg_alpha=None,\n",
      "                                                  reg_lambda=None, ...))\n"
     ]
    }
   ],
   "source": [
    "# Define the algorithm used\n",
    "linear = LinearRegression()\n",
    "KNN = KNeighborsRegressor()\n",
    "DecTree = DecisionTreeRegressor(random_state=1)\n",
    "RandForest = RandomForestRegressor(random_state=1)\n",
    "XGB = XGBRegressor(random_state=1)\n",
    "\n",
    "# The modeling is done on a logarithmic scale, inverted again for interpretation\n",
    "log_linear = TransformedTargetRegressor(linear, func=np.log, inverse_func=np.exp)\n",
    "log_KNN = TransformedTargetRegressor(KNN, func=np.log, inverse_func=np.exp)\n",
    "log_DecTree = TransformedTargetRegressor(DecTree, func=np.log, inverse_func=np.exp)\n",
    "log_RandForest = TransformedTargetRegressor(RandForest, func=np.log, inverse_func=np.exp)\n",
    "log_XGB = TransformedTargetRegressor(XGB, func=np.log, inverse_func=np.exp)\n",
    "\n",
    "# Scaling data\n",
    "scaler = RobustScaler()\n",
    "\n",
    "# Algorithm candidate\n",
    "models = [log_linear, log_DecTree, log_RandForest, log_KNN, log_XGB]\n",
    "\n",
    "value_rmse = []\n",
    "mean_rmse = []\n",
    "std_rmse = []\n",
    "\n",
    "value_mae = []\n",
    "mean_mae = []\n",
    "std_mae = []\n",
    "\n",
    "value_mape = []\n",
    "mean_mape = []\n",
    "std_mape = []\n",
    "\n",
    "# Finding the best algorithm based on the MAE \n",
    "for i in models:\n",
    "    \n",
    "    crossval = KFold(n_splits=5, shuffle=True, random_state=1)\n",
    "\n",
    "    estimator = Pipeline([('preprocessing', transformer),\n",
    "                          ('scaler', scaler),\n",
    "                          ('model', i)])\n",
    "\n",
    "    # RMSE\n",
    "    cv_rmse = cross_val_score(estimator, \n",
    "                              X_train, \n",
    "                              y_train, \n",
    "                              cv=crossval, \n",
    "                              scoring='neg_root_mean_squared_error', \n",
    "                              error_score='raise')\n",
    "\n",
    "    print(cv_rmse, i)\n",
    "\n",
    "    value_rmse.append(cv_rmse)\n",
    "    mean_rmse.append(cv_rmse.mean())\n",
    "    std_rmse.append(cv_rmse.std())\n",
    "\n",
    "    # MAE\n",
    "    cv_mae = cross_val_score(estimator, \n",
    "                             X_train, \n",
    "                             y_train, \n",
    "                             cv=crossval, \n",
    "                             scoring='neg_mean_absolute_error', \n",
    "                             error_score='raise')\n",
    "\n",
    "    print(cv_mae, i)\n",
    "\n",
    "    value_mae.append(cv_mae)\n",
    "    mean_mae.append(cv_mae.mean())\n",
    "    std_mae.append(cv_mae.std())\n",
    "\n",
    "    # MAPE\n",
    "    cv_mape = cross_val_score(estimator, \n",
    "                              X_train, \n",
    "                              y_train, \n",
    "                              cv=crossval, \n",
    "                              scoring='neg_mean_absolute_percentage_error', \n",
    "                              error_score='raise')\n",
    "\n",
    "    print(cv_mape, i)\n",
    "\n",
    "    value_mape.append(cv_mape)\n",
    "    mean_mape.append(cv_mape.mean())\n",
    "    std_mape.append(cv_mape.std())"
   ]
  },
  {
   "cell_type": "code",
   "execution_count": 46,
   "id": "f50040a0",
   "metadata": {},
   "outputs": [
    {
     "data": {
      "text/html": [
       "<div>\n",
       "<style scoped>\n",
       "    .dataframe tbody tr th:only-of-type {\n",
       "        vertical-align: middle;\n",
       "    }\n",
       "\n",
       "    .dataframe tbody tr th {\n",
       "        vertical-align: top;\n",
       "    }\n",
       "\n",
       "    .dataframe thead th {\n",
       "        text-align: right;\n",
       "    }\n",
       "</style>\n",
       "<table border=\"1\" class=\"dataframe\">\n",
       "  <thead>\n",
       "    <tr style=\"text-align: right;\">\n",
       "      <th></th>\n",
       "      <th>Model</th>\n",
       "      <th>Mean_RMSE</th>\n",
       "      <th>Std_RMSE</th>\n",
       "      <th>Mean_MAE</th>\n",
       "      <th>Std_MAE</th>\n",
       "      <th>Mean_MAPE</th>\n",
       "      <th>Std_MAPE</th>\n",
       "    </tr>\n",
       "  </thead>\n",
       "  <tbody>\n",
       "    <tr>\n",
       "      <th>0</th>\n",
       "      <td>Linear Regression</td>\n",
       "      <td>-2965.674277</td>\n",
       "      <td>156.355347</td>\n",
       "      <td>-2278.221843</td>\n",
       "      <td>117.693479</td>\n",
       "      <td>-0.411950</td>\n",
       "      <td>0.017848</td>\n",
       "    </tr>\n",
       "    <tr>\n",
       "      <th>1</th>\n",
       "      <td>DecisionTree Regressor</td>\n",
       "      <td>-3795.114757</td>\n",
       "      <td>166.773241</td>\n",
       "      <td>-2566.965793</td>\n",
       "      <td>133.301580</td>\n",
       "      <td>-0.487630</td>\n",
       "      <td>0.028252</td>\n",
       "    </tr>\n",
       "    <tr>\n",
       "      <th>2</th>\n",
       "      <td>RandomForest Regressor</td>\n",
       "      <td>-2843.600106</td>\n",
       "      <td>116.474657</td>\n",
       "      <td>-2073.282287</td>\n",
       "      <td>97.376775</td>\n",
       "      <td>-0.379962</td>\n",
       "      <td>0.016434</td>\n",
       "    </tr>\n",
       "    <tr>\n",
       "      <th>3</th>\n",
       "      <td>KNN Regressor</td>\n",
       "      <td>-3034.455352</td>\n",
       "      <td>121.262546</td>\n",
       "      <td>-2277.006152</td>\n",
       "      <td>90.867977</td>\n",
       "      <td>-0.417995</td>\n",
       "      <td>0.011986</td>\n",
       "    </tr>\n",
       "    <tr>\n",
       "      <th>4</th>\n",
       "      <td>XGBoost Regressor</td>\n",
       "      <td>-2963.092826</td>\n",
       "      <td>120.284095</td>\n",
       "      <td>-2160.492870</td>\n",
       "      <td>103.278369</td>\n",
       "      <td>-0.394697</td>\n",
       "      <td>0.016815</td>\n",
       "    </tr>\n",
       "  </tbody>\n",
       "</table>\n",
       "</div>"
      ],
      "text/plain": [
       "                    Model    Mean_RMSE    Std_RMSE     Mean_MAE     Std_MAE  \\\n",
       "0       Linear Regression -2965.674277  156.355347 -2278.221843  117.693479   \n",
       "1  DecisionTree Regressor -3795.114757  166.773241 -2566.965793  133.301580   \n",
       "2  RandomForest Regressor -2843.600106  116.474657 -2073.282287   97.376775   \n",
       "3           KNN Regressor -3034.455352  121.262546 -2277.006152   90.867977   \n",
       "4       XGBoost Regressor -2963.092826  120.284095 -2160.492870  103.278369   \n",
       "\n",
       "   Mean_MAPE  Std_MAPE  \n",
       "0  -0.411950  0.017848  \n",
       "1  -0.487630  0.028252  \n",
       "2  -0.379962  0.016434  \n",
       "3  -0.417995  0.011986  \n",
       "4  -0.394697  0.016815  "
      ]
     },
     "execution_count": 46,
     "metadata": {},
     "output_type": "execute_result"
    }
   ],
   "source": [
    "# Evaluation of the results of the 5 candidate algorithms used\n",
    "pd.DataFrame({\n",
    "    'Model': ['Linear Regression', 'DecisionTree Regressor', 'RandomForest Regressor','KNN Regressor', 'XGBoost Regressor'],\n",
    "    'Mean_RMSE': mean_rmse,\n",
    "    'Std_RMSE': std_rmse,\n",
    "    'Mean_MAE': mean_mae,\n",
    "    'Std_MAE': std_mae,\n",
    "    'Mean_MAPE': mean_mape,\n",
    "    'Std_MAPE': std_mape})"
   ]
  },
  {
   "cell_type": "markdown",
   "id": "53b5edbe",
   "metadata": {},
   "source": [
    "**(Lewis 1982)** interpretation :\n",
    "\n",
    "**MAPE** results is a means to judge the accuracy of the forecast less that 10% is a highly accurate forecast, 11% to 20% is a good forecast, 21% to 50% is a reasonable forecast and 51% or more is an inaccurate forecast."
   ]
  },
  {
   "cell_type": "markdown",
   "id": "a5bcc244",
   "metadata": {},
   "source": [
    "- KNN Regressor has stable **absolute values** with low error and high mean\n",
    "- Random Forest has a stable slightly good **absolute value** in mean and low error\n",
    "\n",
    "Predictions will be made on the test set with the 2 best benchmark models, KNN and Random Forest to see who has a stable high mean and low error to each other model"
   ]
  },
  {
   "cell_type": "code",
   "execution_count": 47,
   "id": "f0c68870",
   "metadata": {},
   "outputs": [
    {
     "data": {
      "text/html": [
       "<div>\n",
       "<style scoped>\n",
       "    .dataframe tbody tr th:only-of-type {\n",
       "        vertical-align: middle;\n",
       "    }\n",
       "\n",
       "    .dataframe tbody tr th {\n",
       "        vertical-align: top;\n",
       "    }\n",
       "\n",
       "    .dataframe thead th {\n",
       "        text-align: right;\n",
       "    }\n",
       "</style>\n",
       "<table border=\"1\" class=\"dataframe\">\n",
       "  <thead>\n",
       "    <tr style=\"text-align: right;\">\n",
       "      <th></th>\n",
       "      <th>RMSE</th>\n",
       "      <th>MAE</th>\n",
       "      <th>MAPE</th>\n",
       "    </tr>\n",
       "  </thead>\n",
       "  <tbody>\n",
       "    <tr>\n",
       "      <th>KNN</th>\n",
       "      <td>2899.260431</td>\n",
       "      <td>2208.104469</td>\n",
       "      <td>0.449926</td>\n",
       "    </tr>\n",
       "    <tr>\n",
       "      <th>Random Forest</th>\n",
       "      <td>2760.930933</td>\n",
       "      <td>2001.268019</td>\n",
       "      <td>0.418030</td>\n",
       "    </tr>\n",
       "  </tbody>\n",
       "</table>\n",
       "</div>"
      ],
      "text/plain": [
       "                      RMSE          MAE      MAPE\n",
       "KNN            2899.260431  2208.104469  0.449926\n",
       "Random Forest  2760.930933  2001.268019  0.418030"
      ]
     },
     "execution_count": 47,
     "metadata": {},
     "output_type": "execute_result"
    }
   ],
   "source": [
    "# Benchmark Model\n",
    "models = {'KNN': KNeighborsRegressor(),\n",
    "          'Random Forest': RandomForestRegressor(random_state=1)}\n",
    "\n",
    "rmse = []\n",
    "mae = []\n",
    "mape = []\n",
    "\n",
    "# Test set prediction\n",
    "for i in models:\n",
    "\n",
    "    model = Pipeline([('preprocessing', transformer),\n",
    "                      ('scaler', scaler),\n",
    "                      ('model', models[i])])\n",
    "\n",
    "    model.fit(X_train, y_train)\n",
    "    y_pred = model.predict(X_test)\n",
    "    rmse.append(np.sqrt(mean_squared_error(y_test, y_pred)))\n",
    "    mae.append(mean_absolute_error(y_test, y_pred))\n",
    "    mape.append(mean_absolute_percentage_error(y_test, y_pred))\n",
    "\n",
    "before_tuning = pd.DataFrame(\n",
    "                            {'RMSE': rmse, \n",
    "                             'MAE': mae, \n",
    "                             'MAPE': mape}, \n",
    "                            index=models.keys())\n",
    "before_tuning"
   ]
  },
  {
   "cell_type": "markdown",
   "id": "353ea26c",
   "metadata": {},
   "source": [
    "When predictions are made on the test set, **Random Forest cumulative performance is slightly better**. This can be seen from the RMSE and MAE values which are slightly lower than KNN.\n",
    "\n",
    "## Hyperparameter Tuning\n",
    "\n",
    "Since the Random Forest model performs slightly better than KNN, we will then use this Random Forest model as the final model. At this stage, we will perform hyperparameter tuning on the Random Forest model in the hope of improving model performance."
   ]
  },
  {
   "cell_type": "code",
   "execution_count": 48,
   "id": "3d0a9657",
   "metadata": {},
   "outputs": [],
   "source": [
    "# Number of trees\n",
    "n_estimators = list(np.arange(1, 100))\n",
    "\n",
    "# Maximum depth trees\n",
    "max_depth = list(np.arange(1, 11))\n",
    "\n",
    "# Number of feature\n",
    "max_features = ['auto','sqrt']\n",
    "\n",
    "# Minimum samples split node\n",
    "min_samples_split = [2, 5, 10, 15, 100]\n",
    "\n",
    "# Minimum samples leaf node\n",
    "min_samples_leaf = [1, 2, 5, 10]\n",
    "\n",
    "# Selecting samples train trees\n",
    "bootstrap = [True, False]\n",
    "\n",
    "# Hyperparam space \n",
    "hyperparam_space = {\n",
    "    'model__n_estimators': n_estimators,\n",
    "    'model__max_depth': max_depth, \n",
    "    'model__max_features': max_features,\n",
    "    'model__min_samples_split': min_samples_split,\n",
    "    'model__min_samples_leaf': min_samples_leaf,\n",
    "    'model__bootstrap': bootstrap,\n",
    "}"
   ]
  },
  {
   "cell_type": "code",
   "execution_count": 49,
   "id": "ad0cb11f",
   "metadata": {},
   "outputs": [],
   "source": [
    "# Best model with hyperparameter tuning\n",
    "model = RandomForestRegressor(random_state=1)\n",
    "\n",
    "# Algorithm chains\n",
    "estimator_best = Pipeline([('preprocessing', transformer),\n",
    "                           ('scaler', scaler),\n",
    "                           ('model', model)\n",
    "                          ])\n",
    "\n",
    "crossval = KFold(n_splits=4, shuffle=True, random_state=1)\n",
    "\n",
    "# Best model cross validation\n",
    "random_best = RandomizedSearchCV(estimator_best, \n",
    "                                 param_distributions = hyperparam_space,\n",
    "                                 n_iter = 50,\n",
    "                                 cv = crossval,\n",
    "                                 scoring = ['neg_root_mean_squared_error', 'neg_mean_absolute_error', 'neg_mean_absolute_percentage_error'], \n",
    "                                 n_jobs = -1,\n",
    "                                 refit = 'neg_root_mean_squared_error', \n",
    "                                 random_state = 1)"
   ]
  },
  {
   "cell_type": "code",
   "execution_count": 50,
   "id": "e764f54e",
   "metadata": {},
   "outputs": [
    {
     "data": {
      "text/plain": [
       "RandomizedSearchCV(cv=KFold(n_splits=4, random_state=1, shuffle=True),\n",
       "                   estimator=Pipeline(steps=[('preprocessing',\n",
       "                                              ColumnTransformer(remainder='passthrough',\n",
       "                                                                transformers=[('One '\n",
       "                                                                               'Hot',\n",
       "                                                                               OneHotEncoder(),\n",
       "                                                                               ['Coverage',\n",
       "                                                                                'Renew '\n",
       "                                                                                'Offer '\n",
       "                                                                                'Type',\n",
       "                                                                                'Marital '\n",
       "                                                                                'Status']),\n",
       "                                                                              ('Binary',\n",
       "                                                                               BinaryEncoder(),\n",
       "                                                                               ['Vehicle '\n",
       "                                                                                'Class',\n",
       "                                                                                'EmploymentStatus']),\n",
       "                                                                              ('Imputer',\n",
       "                                                                               IterativeImputer(),\n",
       "                                                                               ['Incom...\n",
       "                                        'model__max_features': ['auto', 'sqrt'],\n",
       "                                        'model__min_samples_leaf': [1, 2, 5,\n",
       "                                                                    10],\n",
       "                                        'model__min_samples_split': [2, 5, 10,\n",
       "                                                                     15, 100],\n",
       "                                        'model__n_estimators': [1, 2, 3, 4, 5,\n",
       "                                                                6, 7, 8, 9, 10,\n",
       "                                                                11, 12, 13, 14,\n",
       "                                                                15, 16, 17, 18,\n",
       "                                                                19, 20, 21, 22,\n",
       "                                                                23, 24, 25, 26,\n",
       "                                                                27, 28, 29, 30, ...]},\n",
       "                   random_state=1, refit='neg_root_mean_squared_error',\n",
       "                   scoring=['neg_root_mean_squared_error',\n",
       "                            'neg_mean_absolute_error',\n",
       "                            'neg_mean_absolute_percentage_error'])"
      ]
     },
     "execution_count": 50,
     "metadata": {},
     "output_type": "execute_result"
    }
   ],
   "source": [
    "# Training data fitting to find the best parameters\n",
    "random_best.fit(X_train, y_train)"
   ]
  },
  {
   "cell_type": "code",
   "execution_count": 51,
   "id": "4f569849",
   "metadata": {},
   "outputs": [
    {
     "data": {
      "text/html": [
       "<div>\n",
       "<style scoped>\n",
       "    .dataframe tbody tr th:only-of-type {\n",
       "        vertical-align: middle;\n",
       "    }\n",
       "\n",
       "    .dataframe tbody tr th {\n",
       "        vertical-align: top;\n",
       "    }\n",
       "\n",
       "    .dataframe thead th {\n",
       "        text-align: right;\n",
       "    }\n",
       "</style>\n",
       "<table border=\"1\" class=\"dataframe\">\n",
       "  <thead>\n",
       "    <tr style=\"text-align: right;\">\n",
       "      <th></th>\n",
       "      <th>mean_fit_time</th>\n",
       "      <th>std_fit_time</th>\n",
       "      <th>mean_score_time</th>\n",
       "      <th>std_score_time</th>\n",
       "      <th>param_model__n_estimators</th>\n",
       "      <th>param_model__min_samples_split</th>\n",
       "      <th>param_model__min_samples_leaf</th>\n",
       "      <th>param_model__max_features</th>\n",
       "      <th>param_model__max_depth</th>\n",
       "      <th>param_model__bootstrap</th>\n",
       "      <th>...</th>\n",
       "      <th>mean_test_neg_mean_absolute_error</th>\n",
       "      <th>std_test_neg_mean_absolute_error</th>\n",
       "      <th>rank_test_neg_mean_absolute_error</th>\n",
       "      <th>split0_test_neg_mean_absolute_percentage_error</th>\n",
       "      <th>split1_test_neg_mean_absolute_percentage_error</th>\n",
       "      <th>split2_test_neg_mean_absolute_percentage_error</th>\n",
       "      <th>split3_test_neg_mean_absolute_percentage_error</th>\n",
       "      <th>mean_test_neg_mean_absolute_percentage_error</th>\n",
       "      <th>std_test_neg_mean_absolute_percentage_error</th>\n",
       "      <th>rank_test_neg_mean_absolute_percentage_error</th>\n",
       "    </tr>\n",
       "  </thead>\n",
       "  <tbody>\n",
       "    <tr>\n",
       "      <th>3</th>\n",
       "      <td>0.366580</td>\n",
       "      <td>0.017641</td>\n",
       "      <td>0.029450</td>\n",
       "      <td>0.001111</td>\n",
       "      <td>90</td>\n",
       "      <td>2</td>\n",
       "      <td>1</td>\n",
       "      <td>sqrt</td>\n",
       "      <td>9</td>\n",
       "      <td>False</td>\n",
       "      <td>...</td>\n",
       "      <td>-2129.797150</td>\n",
       "      <td>116.764649</td>\n",
       "      <td>2</td>\n",
       "      <td>-0.477966</td>\n",
       "      <td>-0.406062</td>\n",
       "      <td>-0.421729</td>\n",
       "      <td>-0.431018</td>\n",
       "      <td>-0.434194</td>\n",
       "      <td>0.026800</td>\n",
       "      <td>3</td>\n",
       "    </tr>\n",
       "    <tr>\n",
       "      <th>13</th>\n",
       "      <td>0.717431</td>\n",
       "      <td>0.007479</td>\n",
       "      <td>0.029571</td>\n",
       "      <td>0.002724</td>\n",
       "      <td>91</td>\n",
       "      <td>2</td>\n",
       "      <td>1</td>\n",
       "      <td>auto</td>\n",
       "      <td>10</td>\n",
       "      <td>True</td>\n",
       "      <td>...</td>\n",
       "      <td>-2128.857590</td>\n",
       "      <td>94.507770</td>\n",
       "      <td>1</td>\n",
       "      <td>-0.469804</td>\n",
       "      <td>-0.410822</td>\n",
       "      <td>-0.423925</td>\n",
       "      <td>-0.431048</td>\n",
       "      <td>-0.433900</td>\n",
       "      <td>0.021962</td>\n",
       "      <td>2</td>\n",
       "    </tr>\n",
       "    <tr>\n",
       "      <th>10</th>\n",
       "      <td>0.738246</td>\n",
       "      <td>0.006158</td>\n",
       "      <td>0.029645</td>\n",
       "      <td>0.001178</td>\n",
       "      <td>96</td>\n",
       "      <td>2</td>\n",
       "      <td>2</td>\n",
       "      <td>auto</td>\n",
       "      <td>10</td>\n",
       "      <td>True</td>\n",
       "      <td>...</td>\n",
       "      <td>-2130.059105</td>\n",
       "      <td>94.673300</td>\n",
       "      <td>3</td>\n",
       "      <td>-0.467610</td>\n",
       "      <td>-0.410992</td>\n",
       "      <td>-0.423098</td>\n",
       "      <td>-0.430681</td>\n",
       "      <td>-0.433095</td>\n",
       "      <td>0.021128</td>\n",
       "      <td>1</td>\n",
       "    </tr>\n",
       "    <tr>\n",
       "      <th>19</th>\n",
       "      <td>0.581286</td>\n",
       "      <td>0.007527</td>\n",
       "      <td>0.031843</td>\n",
       "      <td>0.005086</td>\n",
       "      <td>82</td>\n",
       "      <td>10</td>\n",
       "      <td>1</td>\n",
       "      <td>auto</td>\n",
       "      <td>9</td>\n",
       "      <td>True</td>\n",
       "      <td>...</td>\n",
       "      <td>-2153.792571</td>\n",
       "      <td>106.007738</td>\n",
       "      <td>4</td>\n",
       "      <td>-0.475895</td>\n",
       "      <td>-0.414011</td>\n",
       "      <td>-0.424884</td>\n",
       "      <td>-0.436972</td>\n",
       "      <td>-0.437940</td>\n",
       "      <td>0.023370</td>\n",
       "      <td>4</td>\n",
       "    </tr>\n",
       "    <tr>\n",
       "      <th>25</th>\n",
       "      <td>0.102784</td>\n",
       "      <td>0.003262</td>\n",
       "      <td>0.018047</td>\n",
       "      <td>0.005121</td>\n",
       "      <td>21</td>\n",
       "      <td>10</td>\n",
       "      <td>1</td>\n",
       "      <td>sqrt</td>\n",
       "      <td>9</td>\n",
       "      <td>True</td>\n",
       "      <td>...</td>\n",
       "      <td>-2161.362164</td>\n",
       "      <td>119.698597</td>\n",
       "      <td>5</td>\n",
       "      <td>-0.483344</td>\n",
       "      <td>-0.413241</td>\n",
       "      <td>-0.424838</td>\n",
       "      <td>-0.441305</td>\n",
       "      <td>-0.440682</td>\n",
       "      <td>0.026573</td>\n",
       "      <td>8</td>\n",
       "    </tr>\n",
       "  </tbody>\n",
       "</table>\n",
       "<p>5 rows × 32 columns</p>\n",
       "</div>"
      ],
      "text/plain": [
       "    mean_fit_time  std_fit_time  mean_score_time  std_score_time  \\\n",
       "3        0.366580      0.017641         0.029450        0.001111   \n",
       "13       0.717431      0.007479         0.029571        0.002724   \n",
       "10       0.738246      0.006158         0.029645        0.001178   \n",
       "19       0.581286      0.007527         0.031843        0.005086   \n",
       "25       0.102784      0.003262         0.018047        0.005121   \n",
       "\n",
       "   param_model__n_estimators param_model__min_samples_split  \\\n",
       "3                         90                              2   \n",
       "13                        91                              2   \n",
       "10                        96                              2   \n",
       "19                        82                             10   \n",
       "25                        21                             10   \n",
       "\n",
       "   param_model__min_samples_leaf param_model__max_features  \\\n",
       "3                              1                      sqrt   \n",
       "13                             1                      auto   \n",
       "10                             2                      auto   \n",
       "19                             1                      auto   \n",
       "25                             1                      sqrt   \n",
       "\n",
       "   param_model__max_depth param_model__bootstrap  ...  \\\n",
       "3                       9                  False  ...   \n",
       "13                     10                   True  ...   \n",
       "10                     10                   True  ...   \n",
       "19                      9                   True  ...   \n",
       "25                      9                   True  ...   \n",
       "\n",
       "   mean_test_neg_mean_absolute_error  std_test_neg_mean_absolute_error  \\\n",
       "3                       -2129.797150                        116.764649   \n",
       "13                      -2128.857590                         94.507770   \n",
       "10                      -2130.059105                         94.673300   \n",
       "19                      -2153.792571                        106.007738   \n",
       "25                      -2161.362164                        119.698597   \n",
       "\n",
       "    rank_test_neg_mean_absolute_error  \\\n",
       "3                                   2   \n",
       "13                                  1   \n",
       "10                                  3   \n",
       "19                                  4   \n",
       "25                                  5   \n",
       "\n",
       "    split0_test_neg_mean_absolute_percentage_error  \\\n",
       "3                                        -0.477966   \n",
       "13                                       -0.469804   \n",
       "10                                       -0.467610   \n",
       "19                                       -0.475895   \n",
       "25                                       -0.483344   \n",
       "\n",
       "    split1_test_neg_mean_absolute_percentage_error  \\\n",
       "3                                        -0.406062   \n",
       "13                                       -0.410822   \n",
       "10                                       -0.410992   \n",
       "19                                       -0.414011   \n",
       "25                                       -0.413241   \n",
       "\n",
       "    split2_test_neg_mean_absolute_percentage_error  \\\n",
       "3                                        -0.421729   \n",
       "13                                       -0.423925   \n",
       "10                                       -0.423098   \n",
       "19                                       -0.424884   \n",
       "25                                       -0.424838   \n",
       "\n",
       "    split3_test_neg_mean_absolute_percentage_error  \\\n",
       "3                                        -0.431018   \n",
       "13                                       -0.431048   \n",
       "10                                       -0.430681   \n",
       "19                                       -0.436972   \n",
       "25                                       -0.441305   \n",
       "\n",
       "    mean_test_neg_mean_absolute_percentage_error  \\\n",
       "3                                      -0.434194   \n",
       "13                                     -0.433900   \n",
       "10                                     -0.433095   \n",
       "19                                     -0.437940   \n",
       "25                                     -0.440682   \n",
       "\n",
       "    std_test_neg_mean_absolute_percentage_error  \\\n",
       "3                                      0.026800   \n",
       "13                                     0.021962   \n",
       "10                                     0.021128   \n",
       "19                                     0.023370   \n",
       "25                                     0.026573   \n",
       "\n",
       "    rank_test_neg_mean_absolute_percentage_error  \n",
       "3                                              3  \n",
       "13                                             2  \n",
       "10                                             1  \n",
       "19                                             4  \n",
       "25                                             8  \n",
       "\n",
       "[5 rows x 32 columns]"
      ]
     },
     "execution_count": 51,
     "metadata": {},
     "output_type": "execute_result"
    }
   ],
   "source": [
    "# View the tuning results in the form of a dataframe. Sorted by RMSE, MAE & MAPE\n",
    "pd.DataFrame(random_best.cv_results_).sort_values(by=['rank_test_neg_root_mean_squared_error', 'rank_test_neg_mean_absolute_error', 'rank_test_neg_mean_absolute_percentage_error']).head()"
   ]
  },
  {
   "cell_type": "code",
   "execution_count": 52,
   "id": "c43c9db3",
   "metadata": {},
   "outputs": [
    {
     "name": "stdout",
     "output_type": "stream",
     "text": [
      "Random Forest\n",
      "Best_score: -2790.4453225914594\n",
      "Best_params: {'model__n_estimators': 90, 'model__min_samples_split': 2, 'model__min_samples_leaf': 1, 'model__max_features': 'sqrt', 'model__max_depth': 9, 'model__bootstrap': False}\n"
     ]
    }
   ],
   "source": [
    "# Check the best score and params\n",
    "print('Random Forest')\n",
    "print('Best_score:', random_best.best_score_)\n",
    "print('Best_params:', random_best.best_params_)"
   ]
  },
  {
   "cell_type": "markdown",
   "id": "2eabc476",
   "metadata": {},
   "source": [
    "## Prediction\n",
    "\n",
    "Make predictions on the test set using Random Forest model and selected hyperparameters."
   ]
  },
  {
   "cell_type": "code",
   "execution_count": 53,
   "id": "7bfca064",
   "metadata": {},
   "outputs": [
    {
     "data": {
      "text/html": [
       "<div>\n",
       "<style scoped>\n",
       "    .dataframe tbody tr th:only-of-type {\n",
       "        vertical-align: middle;\n",
       "    }\n",
       "\n",
       "    .dataframe tbody tr th {\n",
       "        vertical-align: top;\n",
       "    }\n",
       "\n",
       "    .dataframe thead th {\n",
       "        text-align: right;\n",
       "    }\n",
       "</style>\n",
       "<table border=\"1\" class=\"dataframe\">\n",
       "  <thead>\n",
       "    <tr style=\"text-align: right;\">\n",
       "      <th></th>\n",
       "      <th>RMSE</th>\n",
       "      <th>MAE</th>\n",
       "      <th>MAPE</th>\n",
       "    </tr>\n",
       "  </thead>\n",
       "  <tbody>\n",
       "    <tr>\n",
       "      <th>Random Forest</th>\n",
       "      <td>2666.022326</td>\n",
       "      <td>2040.762664</td>\n",
       "      <td>0.427732</td>\n",
       "    </tr>\n",
       "  </tbody>\n",
       "</table>\n",
       "</div>"
      ],
      "text/plain": [
       "                      RMSE          MAE      MAPE\n",
       "Random Forest  2666.022326  2040.762664  0.427732"
      ]
     },
     "execution_count": 53,
     "metadata": {},
     "output_type": "execute_result"
    }
   ],
   "source": [
    "# Model XGBoost\n",
    "model = {'Random Forest': RandomForestRegressor(random_state=1)}\n",
    "\n",
    "# Define model best estimator\n",
    "model_tuning = random_best.best_estimator_\n",
    "\n",
    "# Fitting model\n",
    "model_tuning.fit(X_train, y_train)\n",
    "\n",
    "# Predict test set\n",
    "y_pred = model_tuning.predict(X_test)\n",
    "\n",
    "# Metrics RMSE, MAE & MAPE after tuning\n",
    "rmse_tuning = np.sqrt(mean_squared_error(y_test, y_pred))\n",
    "mae_tuning = mean_absolute_error(y_test, y_pred)\n",
    "mape_tuning = mean_absolute_percentage_error(y_test, y_pred)\n",
    "\n",
    "after_tuning = pd.DataFrame({'RMSE': rmse_tuning, 'MAE': mae_tuning, 'MAPE': mape_tuning}, index=model.keys())\n",
    "after_tuning"
   ]
  },
  {
   "cell_type": "markdown",
   "id": "0254b35d",
   "metadata": {},
   "source": [
    "## Compared\n",
    "\n",
    "Comparison of Random Forest model performance before and after hyperparameter tuning."
   ]
  },
  {
   "cell_type": "code",
   "execution_count": 54,
   "id": "7f38bfa6",
   "metadata": {},
   "outputs": [
    {
     "data": {
      "text/html": [
       "<div>\n",
       "<style scoped>\n",
       "    .dataframe tbody tr th:only-of-type {\n",
       "        vertical-align: middle;\n",
       "    }\n",
       "\n",
       "    .dataframe tbody tr th {\n",
       "        vertical-align: top;\n",
       "    }\n",
       "\n",
       "    .dataframe thead th {\n",
       "        text-align: right;\n",
       "    }\n",
       "</style>\n",
       "<table border=\"1\" class=\"dataframe\">\n",
       "  <thead>\n",
       "    <tr style=\"text-align: right;\">\n",
       "      <th></th>\n",
       "      <th>RMSE</th>\n",
       "      <th>MAE</th>\n",
       "      <th>MAPE</th>\n",
       "    </tr>\n",
       "  </thead>\n",
       "  <tbody>\n",
       "    <tr>\n",
       "      <th>Random Forest</th>\n",
       "      <td>2760.930933</td>\n",
       "      <td>2001.268019</td>\n",
       "      <td>0.41803</td>\n",
       "    </tr>\n",
       "  </tbody>\n",
       "</table>\n",
       "</div>"
      ],
      "text/plain": [
       "                      RMSE          MAE     MAPE\n",
       "Random Forest  2760.930933  2001.268019  0.41803"
      ]
     },
     "execution_count": 54,
     "metadata": {},
     "output_type": "execute_result"
    }
   ],
   "source": [
    "# Before hyperparameter tuning\n",
    "pd.DataFrame(before_tuning.loc['Random Forest']).T"
   ]
  },
  {
   "cell_type": "code",
   "execution_count": 55,
   "id": "91aacf5b",
   "metadata": {},
   "outputs": [
    {
     "data": {
      "text/html": [
       "<div>\n",
       "<style scoped>\n",
       "    .dataframe tbody tr th:only-of-type {\n",
       "        vertical-align: middle;\n",
       "    }\n",
       "\n",
       "    .dataframe tbody tr th {\n",
       "        vertical-align: top;\n",
       "    }\n",
       "\n",
       "    .dataframe thead th {\n",
       "        text-align: right;\n",
       "    }\n",
       "</style>\n",
       "<table border=\"1\" class=\"dataframe\">\n",
       "  <thead>\n",
       "    <tr style=\"text-align: right;\">\n",
       "      <th></th>\n",
       "      <th>RMSE</th>\n",
       "      <th>MAE</th>\n",
       "      <th>MAPE</th>\n",
       "    </tr>\n",
       "  </thead>\n",
       "  <tbody>\n",
       "    <tr>\n",
       "      <th>Random Forest</th>\n",
       "      <td>2666.022326</td>\n",
       "      <td>2040.762664</td>\n",
       "      <td>0.427732</td>\n",
       "    </tr>\n",
       "  </tbody>\n",
       "</table>\n",
       "</div>"
      ],
      "text/plain": [
       "                      RMSE          MAE      MAPE\n",
       "Random Forest  2666.022326  2040.762664  0.427732"
      ]
     },
     "execution_count": 55,
     "metadata": {},
     "output_type": "execute_result"
    }
   ],
   "source": [
    "# After hyperparameter tuning\n",
    "after_tuning"
   ]
  },
  {
   "cell_type": "markdown",
   "id": "22404b5a",
   "metadata": {},
   "source": [
    "The model experienced a increase slightly in performance (error values decreased) with hyperparameter tuning."
   ]
  },
  {
   "cell_type": "code",
   "execution_count": 56,
   "id": "9737d36a",
   "metadata": {},
   "outputs": [
    {
     "data": {
      "image/png": "[encoded data removed]",
      "text/plain": [
       "<Figure size 1008x576 with 1 Axes>"
      ]
     },
     "metadata": {
      "needs_background": "light"
     },
     "output_type": "display_data"
    }
   ],
   "source": [
    "plt.figure(figsize=(14, 8))\n",
    "plot = sns.scatterplot(x=y_test, y=y_pred).set(title='Actual vs. Prediction CLV', \n",
    "                                                         xlabel='Actual CLV', \n",
    "                                                         ylabel='Predicted CLV');"
   ]
  },
  {
   "cell_type": "markdown",
   "id": "53d7cf99",
   "metadata": {},
   "source": [
    "The plot above shows that the distribution of the data is close to 45 degrees and can be used as a model that can be used with the condition that y_test and y_pred are approximately the same."
   ]
  },
  {
   "cell_type": "markdown",
   "id": "b75fafda",
   "metadata": {},
   "source": [
    "## Features Importance\n",
    "\n",
    "To be able to find out what features really affect CLV, we can check it through the feature importance function."
   ]
  },
  {
   "cell_type": "code",
   "execution_count": 57,
   "id": "c62f0e53",
   "metadata": {},
   "outputs": [],
   "source": [
    "importance = list(model_tuning['model'].feature_importances_)"
   ]
  },
  {
   "cell_type": "code",
   "execution_count": 58,
   "id": "d5e65967",
   "metadata": {},
   "outputs": [],
   "source": [
    "onehot = list(transformer.transformers_[0][1].get_feature_names())"
   ]
  },
  {
   "cell_type": "code",
   "execution_count": 59,
   "id": "e47ad805",
   "metadata": {},
   "outputs": [],
   "source": [
    "binary = transformer.transformers_[1][1].get_feature_names()"
   ]
  },
  {
   "cell_type": "code",
   "execution_count": 60,
   "id": "ae14437c",
   "metadata": {},
   "outputs": [],
   "source": [
    "feature_names = onehot + binary + ['Income','Monthly Premium Auto', 'Total Claim Amount']"
   ]
  },
  {
   "cell_type": "code",
   "execution_count": 61,
   "id": "3b2ff8a0",
   "metadata": {},
   "outputs": [
    {
     "data": {
      "text/html": [
       "<div>\n",
       "<style scoped>\n",
       "    .dataframe tbody tr th:only-of-type {\n",
       "        vertical-align: middle;\n",
       "    }\n",
       "\n",
       "    .dataframe tbody tr th {\n",
       "        vertical-align: top;\n",
       "    }\n",
       "\n",
       "    .dataframe thead th {\n",
       "        text-align: right;\n",
       "    }\n",
       "</style>\n",
       "<table border=\"1\" class=\"dataframe\">\n",
       "  <thead>\n",
       "    <tr style=\"text-align: right;\">\n",
       "      <th></th>\n",
       "      <th>importance</th>\n",
       "    </tr>\n",
       "  </thead>\n",
       "  <tbody>\n",
       "    <tr>\n",
       "      <th>x0_Basic</th>\n",
       "      <td>0.033005</td>\n",
       "    </tr>\n",
       "    <tr>\n",
       "      <th>x0_Extended</th>\n",
       "      <td>0.019885</td>\n",
       "    </tr>\n",
       "    <tr>\n",
       "      <th>x0_Premium</th>\n",
       "      <td>0.027291</td>\n",
       "    </tr>\n",
       "    <tr>\n",
       "      <th>x1_Offer1</th>\n",
       "      <td>0.027200</td>\n",
       "    </tr>\n",
       "    <tr>\n",
       "      <th>x1_Offer2</th>\n",
       "      <td>0.019606</td>\n",
       "    </tr>\n",
       "    <tr>\n",
       "      <th>x1_Offer3</th>\n",
       "      <td>0.010548</td>\n",
       "    </tr>\n",
       "    <tr>\n",
       "      <th>x1_Offer4</th>\n",
       "      <td>0.014764</td>\n",
       "    </tr>\n",
       "    <tr>\n",
       "      <th>x2_Divorced</th>\n",
       "      <td>0.017234</td>\n",
       "    </tr>\n",
       "    <tr>\n",
       "      <th>x2_Married</th>\n",
       "      <td>0.014478</td>\n",
       "    </tr>\n",
       "    <tr>\n",
       "      <th>x2_Single</th>\n",
       "      <td>0.016702</td>\n",
       "    </tr>\n",
       "    <tr>\n",
       "      <th>Vehicle Class_0</th>\n",
       "      <td>0.022503</td>\n",
       "    </tr>\n",
       "    <tr>\n",
       "      <th>Vehicle Class_1</th>\n",
       "      <td>0.030664</td>\n",
       "    </tr>\n",
       "    <tr>\n",
       "      <th>Vehicle Class_2</th>\n",
       "      <td>0.036878</td>\n",
       "    </tr>\n",
       "    <tr>\n",
       "      <th>EmploymentStatus_0</th>\n",
       "      <td>0.018008</td>\n",
       "    </tr>\n",
       "    <tr>\n",
       "      <th>EmploymentStatus_1</th>\n",
       "      <td>0.015302</td>\n",
       "    </tr>\n",
       "    <tr>\n",
       "      <th>EmploymentStatus_2</th>\n",
       "      <td>0.019595</td>\n",
       "    </tr>\n",
       "    <tr>\n",
       "      <th>Income</th>\n",
       "      <td>0.112135</td>\n",
       "    </tr>\n",
       "    <tr>\n",
       "      <th>Monthly Premium Auto</th>\n",
       "      <td>0.365195</td>\n",
       "    </tr>\n",
       "    <tr>\n",
       "      <th>Total Claim Amount</th>\n",
       "      <td>0.179007</td>\n",
       "    </tr>\n",
       "  </tbody>\n",
       "</table>\n",
       "</div>"
      ],
      "text/plain": [
       "                      importance\n",
       "x0_Basic                0.033005\n",
       "x0_Extended             0.019885\n",
       "x0_Premium              0.027291\n",
       "x1_Offer1               0.027200\n",
       "x1_Offer2               0.019606\n",
       "x1_Offer3               0.010548\n",
       "x1_Offer4               0.014764\n",
       "x2_Divorced             0.017234\n",
       "x2_Married              0.014478\n",
       "x2_Single               0.016702\n",
       "Vehicle Class_0         0.022503\n",
       "Vehicle Class_1         0.030664\n",
       "Vehicle Class_2         0.036878\n",
       "EmploymentStatus_0      0.018008\n",
       "EmploymentStatus_1      0.015302\n",
       "EmploymentStatus_2      0.019595\n",
       "Income                  0.112135\n",
       "Monthly Premium Auto    0.365195\n",
       "Total Claim Amount      0.179007"
      ]
     },
     "execution_count": 61,
     "metadata": {},
     "output_type": "execute_result"
    }
   ],
   "source": [
    "importance_table = pd.DataFrame({\n",
    "    'importance': importance\n",
    "}, index = feature_names)\n",
    "importance_table"
   ]
  },
  {
   "cell_type": "code",
   "execution_count": 62,
   "id": "b7052290",
   "metadata": {},
   "outputs": [
    {
     "data": {
      "text/plain": [
       "<AxesSubplot:>"
      ]
     },
     "execution_count": 62,
     "metadata": {},
     "output_type": "execute_result"
    },
    {
     "data": {
      "image/png": "[encoded data removed]",
      "text/plain": [
       "<Figure size 432x288 with 1 Axes>"
      ]
     },
     "metadata": {
      "needs_background": "light"
     },
     "output_type": "display_data"
    }
   ],
   "source": [
    "importance_table.plot(kind = 'barh')"
   ]
  },
  {
   "cell_type": "markdown",
   "id": "587a427e",
   "metadata": {},
   "source": [
    "# Inference"
   ]
  },
  {
   "cell_type": "markdown",
   "id": "f48d2cac",
   "metadata": {},
   "source": [
    "Based on the model, the feature that affects CLV is Monthly Premium Auto\n",
    "\n",
    "The metrics carried out on RMSE, MAE, MAPE, the value obtained after hyperparameter tuning is 2666.02 with a maximum CLV range of 16687.82 the resulting estimated value will drop to 2666 or far from this value because this data has a high bias seen from the high error value results. because the target value which has a value with a number of **thousands** can affect RMSE, MSE , MAPE which are vulnerable to outliers and datasets that have a lack of features that should be able to represent the target."
   ]
  },
  {
   "cell_type": "markdown",
   "id": "16319502",
   "metadata": {},
   "source": [
    "# Reference"
   ]
  },
  {
   "cell_type": "markdown",
   "id": "fbbd3550",
   "metadata": {},
   "source": [
    "1. This target requires a lot of transaction data and customer time data is needed for CLV target data analysis \n",
    "\n",
    "2. If possible, add features in reference above with the CLV target, it takes a lot of transactions that can support the target to see which customers should be treated properly by the company such as time retention transaction data, other transactions that can support the CLV target. In addition, latest data for the Insurance Company will certainly be able to improve the predictive capacity of the model.\n",
    "\n",
    "3. This model can be used for other data to be able to make customer value decisions in several companies that require indifference product insurance.\n",
    "\n",
    "4. The model can be improved by developing other models as needed according to the increasing needs of the company over time needed.\n",
    "\n",
    "5. Tried to lower the error better than before could more persuasive to know which target standard with company.\n",
    "\n",
    "6. Make sure to change the data first to be flexible so that it could be changed properly in preprocessing"
   ]
  },
  {
   "cell_type": "markdown",
   "id": "58283974",
   "metadata": {},
   "source": [
    "# Save Model"
   ]
  },
  {
   "cell_type": "code",
   "execution_count": 63,
   "id": "7044f8ff",
   "metadata": {},
   "outputs": [],
   "source": [
    "# Save model\n",
    "import pickle\n",
    "\n",
    "estimator = Pipeline([('preprocess', transformer), ('model', RandomForestRegressor())])\n",
    "estimator.fit(X_train, y_train)\n",
    "\n",
    "pickle.dump(estimator, open('modelInsurance.sav', 'wb'))"
   ]
  },
  {
   "cell_type": "code",
   "execution_count": 64,
   "id": "0da26f22",
   "metadata": {},
   "outputs": [],
   "source": [
    "#Load model\n",
    "file = 'modelInsurance.sav'\n",
    "load_model = pickle.load(open(file, 'rb'))"
   ]
  },
  {
   "cell_type": "code",
   "execution_count": 65,
   "id": "3e144108",
   "metadata": {},
   "outputs": [
    {
     "data": {
      "text/plain": [
       "2760.993095268491"
      ]
     },
     "execution_count": 65,
     "metadata": {},
     "output_type": "execute_result"
    }
   ],
   "source": [
    "np.sqrt(mean_squared_error(y_test, load_model.predict(X_test)))"
   ]
  }
 ],
 "metadata": {
  "interpreter": {
   "hash": "636b2cf659a2a5ef97af18321057ba7f5248c1e63e946c3c7bea1ea11e934279"
  },
  "kernelspec": {
   "display_name": "Python 3 (ipykernel)",
   "language": "python",
   "name": "python3"
  },
  "language_info": {
   "codemirror_mode": {
    "name": "ipython",
    "version": 3
   },
   "file_extension": ".py",
   "mimetype": "text/x-python",
   "name": "python",
   "nbconvert_exporter": "python",
   "pygments_lexer": "ipython3",
   "version": "3.9.7"
  }
 },
 "nbformat": 4,
 "nbformat_minor": 5
}
